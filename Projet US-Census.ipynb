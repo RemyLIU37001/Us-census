{
 "cells": [
  {
   "cell_type": "markdown",
   "metadata": {},
   "source": [
    "# 1. La Provenance "
   ]
  },
  {
   "cell_type": "markdown",
   "metadata": {},
   "source": [
    "-Qui a la récupérer les données?\n",
    "\n",
    "Ce décompte est effectué tous les dix ans par le Bureau de recensement des Étas-Unis, une agence gouvernementale.\n",
    "\n",
    "-Dans quel cadre ? \n",
    "\n",
    "Le recensement fournit des données essentielles pouvant influer sur de nombres aspects différents de la vie. Les décideurs, les propriétaires d’entreprises, les enseignants et bien d’autres personnes utilisent ces données tous les jours pour fournir des services, des produits et un soutien à la communautéé\n",
    "\n",
    "-Quel usage?\n",
    "\n",
    "Nous voulons étudier les conditions qui ont des influences sur le montant du salaire, et comprendre l’impact de divers facteurs sur le salaire.\n",
    "\n"
   ]
  },
  {
   "cell_type": "markdown",
   "metadata": {},
   "source": [
    "# 2. Les bias : "
   ]
  },
  {
   "cell_type": "markdown",
   "metadata": {},
   "source": [
    "1. Les biais potentiels :\n",
    "Biais de quantité de saisie, biais du répontant, biais de l'enquêteur, etc.\n",
    "\n",
    "2. Les biais propres :\n",
    "-D’après les ststistiques nous remarquons que plusieurs personnes n’ont pas repondu au questionnaire de recenssement \n",
    "Et sur les types de travail (classe de travail), la profession (profession) et la nationalité (pays) ont tous des degrés divers de valeurs manquantes. Les autres indicateurs n'ont aucune valeur manquante."
   ]
  },
  {
   "cell_type": "markdown",
   "metadata": {},
   "source": [
    "# Prétraitement des données"
   ]
  },
  {
   "cell_type": "markdown",
   "metadata": {},
   "source": [
    "Dans les données US-CENSUS.Il y a 32561 de donées et il y a 15 attributs(Pour savoir les détails de nos données, nous pouvovns utiliser la commande \"nom.shape\"et \"nom.describe\").\n",
    "\n",
    "Dans les 15 attributs, il y a 6 attributs continues : \n",
    "\n",
    "l'âge(age), le poids de l'échantillon(final-weight), le nombre d'années de l'étucation(education-num), la recette du capital(capital-gain), la dépense du capital(capital-loss), le temps du travail par semaine(hours-per-week).\n",
    "\n",
    "Il y a 9 attributs discrets：le type d’emploi(workclass), l’ étucation(education), l’état civil(marital-status), travail(occupation), le rôle familial (relationship), la race(race) ), la sex(sexe), la nationnalité(country), la classe du revenue(income-level).\n",
    "\n",
    "Nous pouvons étudier l'impact de diverses variables sur le revenu et prédire le salaire par le modèle\n",
    "dans les données.\n",
    "\n",
    "Et on a trouvé que la variable \"fnlwgt\" n'a pas de la signifigativité dans notre modèle,donc nous voulons le supprimer dans nos données. "
   ]
  },
  {
   "cell_type": "code",
   "execution_count": 2,
   "metadata": {},
   "outputs": [
    {
     "data": {
      "text/plain": [
       "(32561, 16)"
      ]
     },
     "execution_count": 2,
     "metadata": {},
     "output_type": "execute_result"
    }
   ],
   "source": [
    "import pandas as pd\n",
    "import numpy as np\n",
    "import matplotlib.pyplot as plt\n",
    "adult = pd.read_csv(\"adult1.csv\")\n",
    "adult.shape"
   ]
  },
  {
   "cell_type": "code",
   "execution_count": 79,
   "metadata": {},
   "outputs": [
    {
     "data": {
      "text/html": [
       "<div>\n",
       "<style scoped>\n",
       "    .dataframe tbody tr th:only-of-type {\n",
       "        vertical-align: middle;\n",
       "    }\n",
       "\n",
       "    .dataframe tbody tr th {\n",
       "        vertical-align: top;\n",
       "    }\n",
       "\n",
       "    .dataframe thead th {\n",
       "        text-align: right;\n",
       "    }\n",
       "</style>\n",
       "<table border=\"1\" class=\"dataframe\">\n",
       "  <thead>\n",
       "    <tr style=\"text-align: right;\">\n",
       "      <th></th>\n",
       "      <th>age</th>\n",
       "      <th>education.num</th>\n",
       "      <th>capital.gain</th>\n",
       "      <th>capital.loss</th>\n",
       "      <th>hours.per.week</th>\n",
       "    </tr>\n",
       "  </thead>\n",
       "  <tbody>\n",
       "    <tr>\n",
       "      <td>count</td>\n",
       "      <td>32561.000000</td>\n",
       "      <td>32561.000000</td>\n",
       "      <td>32561.000000</td>\n",
       "      <td>32561.000000</td>\n",
       "      <td>32561.000000</td>\n",
       "    </tr>\n",
       "    <tr>\n",
       "      <td>mean</td>\n",
       "      <td>38.581647</td>\n",
       "      <td>10.080679</td>\n",
       "      <td>1077.648844</td>\n",
       "      <td>87.303830</td>\n",
       "      <td>40.437456</td>\n",
       "    </tr>\n",
       "    <tr>\n",
       "      <td>std</td>\n",
       "      <td>13.640433</td>\n",
       "      <td>2.572720</td>\n",
       "      <td>7385.292085</td>\n",
       "      <td>402.960219</td>\n",
       "      <td>12.347429</td>\n",
       "    </tr>\n",
       "    <tr>\n",
       "      <td>min</td>\n",
       "      <td>17.000000</td>\n",
       "      <td>1.000000</td>\n",
       "      <td>0.000000</td>\n",
       "      <td>0.000000</td>\n",
       "      <td>1.000000</td>\n",
       "    </tr>\n",
       "    <tr>\n",
       "      <td>25%</td>\n",
       "      <td>28.000000</td>\n",
       "      <td>9.000000</td>\n",
       "      <td>0.000000</td>\n",
       "      <td>0.000000</td>\n",
       "      <td>40.000000</td>\n",
       "    </tr>\n",
       "    <tr>\n",
       "      <td>50%</td>\n",
       "      <td>37.000000</td>\n",
       "      <td>10.000000</td>\n",
       "      <td>0.000000</td>\n",
       "      <td>0.000000</td>\n",
       "      <td>40.000000</td>\n",
       "    </tr>\n",
       "    <tr>\n",
       "      <td>75%</td>\n",
       "      <td>48.000000</td>\n",
       "      <td>12.000000</td>\n",
       "      <td>0.000000</td>\n",
       "      <td>0.000000</td>\n",
       "      <td>45.000000</td>\n",
       "    </tr>\n",
       "    <tr>\n",
       "      <td>max</td>\n",
       "      <td>90.000000</td>\n",
       "      <td>16.000000</td>\n",
       "      <td>99999.000000</td>\n",
       "      <td>4356.000000</td>\n",
       "      <td>99.000000</td>\n",
       "    </tr>\n",
       "  </tbody>\n",
       "</table>\n",
       "</div>"
      ],
      "text/plain": [
       "                age  education.num  capital.gain  capital.loss  hours.per.week\n",
       "count  32561.000000   32561.000000  32561.000000  32561.000000    32561.000000\n",
       "mean      38.581647      10.080679   1077.648844     87.303830       40.437456\n",
       "std       13.640433       2.572720   7385.292085    402.960219       12.347429\n",
       "min       17.000000       1.000000      0.000000      0.000000        1.000000\n",
       "25%       28.000000       9.000000      0.000000      0.000000       40.000000\n",
       "50%       37.000000      10.000000      0.000000      0.000000       40.000000\n",
       "75%       48.000000      12.000000      0.000000      0.000000       45.000000\n",
       "max       90.000000      16.000000  99999.000000   4356.000000       99.000000"
      ]
     },
     "execution_count": 79,
     "metadata": {},
     "output_type": "execute_result"
    }
   ],
   "source": [
    "adult.drop([\"fnlwgt\"],axis=1,inplace=True)\n",
    "adult.describe()"
   ]
  },
  {
   "cell_type": "markdown",
   "metadata": {},
   "source": [
    "# Vérification les données manquantes :"
   ]
  },
  {
   "cell_type": "markdown",
   "metadata": {},
   "source": [
    "\n",
    "Et puis nous voulons regarder le tableaux par python pour voir s'il y a des données pas bon(manquantes, ou les autres genres qui ont des mauvais influences au traitement ou à l'analyse avec les données) s'il en a, nous devons chercher les moyens pour supprimer ou diminuer ces influences.\n",
    "\n",
    "Nous pouvons trouver que il y a des points d'interrogation dans les données, et il y a des influences sur le traitement des données.\n"
   ]
  },
  {
   "cell_type": "code",
   "execution_count": 80,
   "metadata": {
    "scrolled": true
   },
   "outputs": [
    {
     "data": {
      "text/html": [
       "<div>\n",
       "<style scoped>\n",
       "    .dataframe tbody tr th:only-of-type {\n",
       "        vertical-align: middle;\n",
       "    }\n",
       "\n",
       "    .dataframe tbody tr th {\n",
       "        vertical-align: top;\n",
       "    }\n",
       "\n",
       "    .dataframe thead th {\n",
       "        text-align: right;\n",
       "    }\n",
       "</style>\n",
       "<table border=\"1\" class=\"dataframe\">\n",
       "  <thead>\n",
       "    <tr style=\"text-align: right;\">\n",
       "      <th></th>\n",
       "      <th>age</th>\n",
       "      <th>workclass</th>\n",
       "      <th>education</th>\n",
       "      <th>education.num</th>\n",
       "      <th>marital.status</th>\n",
       "      <th>occupation</th>\n",
       "      <th>relationship</th>\n",
       "      <th>race</th>\n",
       "      <th>sex</th>\n",
       "      <th>capital.gain</th>\n",
       "      <th>capital.loss</th>\n",
       "      <th>hours.per.week</th>\n",
       "      <th>native.country</th>\n",
       "      <th>income</th>\n",
       "    </tr>\n",
       "  </thead>\n",
       "  <tbody>\n",
       "    <tr>\n",
       "      <td>0</td>\n",
       "      <td>90</td>\n",
       "      <td>?</td>\n",
       "      <td>HS-grad</td>\n",
       "      <td>9</td>\n",
       "      <td>Widowed</td>\n",
       "      <td>?</td>\n",
       "      <td>Not-in-family</td>\n",
       "      <td>White</td>\n",
       "      <td>Female</td>\n",
       "      <td>0</td>\n",
       "      <td>4356</td>\n",
       "      <td>40</td>\n",
       "      <td>United-States</td>\n",
       "      <td>&lt;=50K</td>\n",
       "    </tr>\n",
       "    <tr>\n",
       "      <td>1</td>\n",
       "      <td>82</td>\n",
       "      <td>Private</td>\n",
       "      <td>HS-grad</td>\n",
       "      <td>9</td>\n",
       "      <td>Widowed</td>\n",
       "      <td>Exec-managerial</td>\n",
       "      <td>Not-in-family</td>\n",
       "      <td>White</td>\n",
       "      <td>Female</td>\n",
       "      <td>0</td>\n",
       "      <td>4356</td>\n",
       "      <td>18</td>\n",
       "      <td>United-States</td>\n",
       "      <td>&lt;=50K</td>\n",
       "    </tr>\n",
       "    <tr>\n",
       "      <td>2</td>\n",
       "      <td>66</td>\n",
       "      <td>?</td>\n",
       "      <td>Some-college</td>\n",
       "      <td>10</td>\n",
       "      <td>Widowed</td>\n",
       "      <td>?</td>\n",
       "      <td>Unmarried</td>\n",
       "      <td>Black</td>\n",
       "      <td>Female</td>\n",
       "      <td>0</td>\n",
       "      <td>4356</td>\n",
       "      <td>40</td>\n",
       "      <td>United-States</td>\n",
       "      <td>&lt;=50K</td>\n",
       "    </tr>\n",
       "    <tr>\n",
       "      <td>3</td>\n",
       "      <td>54</td>\n",
       "      <td>Private</td>\n",
       "      <td>7th-8th</td>\n",
       "      <td>4</td>\n",
       "      <td>Divorced</td>\n",
       "      <td>Machine-op-inspct</td>\n",
       "      <td>Unmarried</td>\n",
       "      <td>White</td>\n",
       "      <td>Female</td>\n",
       "      <td>0</td>\n",
       "      <td>3900</td>\n",
       "      <td>40</td>\n",
       "      <td>United-States</td>\n",
       "      <td>&lt;=50K</td>\n",
       "    </tr>\n",
       "    <tr>\n",
       "      <td>4</td>\n",
       "      <td>41</td>\n",
       "      <td>Private</td>\n",
       "      <td>Some-college</td>\n",
       "      <td>10</td>\n",
       "      <td>Separated</td>\n",
       "      <td>Prof-specialty</td>\n",
       "      <td>Own-child</td>\n",
       "      <td>White</td>\n",
       "      <td>Female</td>\n",
       "      <td>0</td>\n",
       "      <td>3900</td>\n",
       "      <td>40</td>\n",
       "      <td>United-States</td>\n",
       "      <td>&lt;=50K</td>\n",
       "    </tr>\n",
       "    <tr>\n",
       "      <td>...</td>\n",
       "      <td>...</td>\n",
       "      <td>...</td>\n",
       "      <td>...</td>\n",
       "      <td>...</td>\n",
       "      <td>...</td>\n",
       "      <td>...</td>\n",
       "      <td>...</td>\n",
       "      <td>...</td>\n",
       "      <td>...</td>\n",
       "      <td>...</td>\n",
       "      <td>...</td>\n",
       "      <td>...</td>\n",
       "      <td>...</td>\n",
       "      <td>...</td>\n",
       "    </tr>\n",
       "    <tr>\n",
       "      <td>32556</td>\n",
       "      <td>22</td>\n",
       "      <td>Private</td>\n",
       "      <td>Some-college</td>\n",
       "      <td>10</td>\n",
       "      <td>Never-married</td>\n",
       "      <td>Protective-serv</td>\n",
       "      <td>Not-in-family</td>\n",
       "      <td>White</td>\n",
       "      <td>Male</td>\n",
       "      <td>0</td>\n",
       "      <td>0</td>\n",
       "      <td>40</td>\n",
       "      <td>United-States</td>\n",
       "      <td>&lt;=50K</td>\n",
       "    </tr>\n",
       "    <tr>\n",
       "      <td>32557</td>\n",
       "      <td>27</td>\n",
       "      <td>Private</td>\n",
       "      <td>Assoc-acdm</td>\n",
       "      <td>12</td>\n",
       "      <td>Married-civ-spouse</td>\n",
       "      <td>Tech-support</td>\n",
       "      <td>Wife</td>\n",
       "      <td>White</td>\n",
       "      <td>Female</td>\n",
       "      <td>0</td>\n",
       "      <td>0</td>\n",
       "      <td>38</td>\n",
       "      <td>United-States</td>\n",
       "      <td>&lt;=50K</td>\n",
       "    </tr>\n",
       "    <tr>\n",
       "      <td>32558</td>\n",
       "      <td>40</td>\n",
       "      <td>Private</td>\n",
       "      <td>HS-grad</td>\n",
       "      <td>9</td>\n",
       "      <td>Married-civ-spouse</td>\n",
       "      <td>Machine-op-inspct</td>\n",
       "      <td>Husband</td>\n",
       "      <td>White</td>\n",
       "      <td>Male</td>\n",
       "      <td>0</td>\n",
       "      <td>0</td>\n",
       "      <td>40</td>\n",
       "      <td>United-States</td>\n",
       "      <td>&gt;50K</td>\n",
       "    </tr>\n",
       "    <tr>\n",
       "      <td>32559</td>\n",
       "      <td>58</td>\n",
       "      <td>Private</td>\n",
       "      <td>HS-grad</td>\n",
       "      <td>9</td>\n",
       "      <td>Widowed</td>\n",
       "      <td>Adm-clerical</td>\n",
       "      <td>Unmarried</td>\n",
       "      <td>White</td>\n",
       "      <td>Female</td>\n",
       "      <td>0</td>\n",
       "      <td>0</td>\n",
       "      <td>40</td>\n",
       "      <td>United-States</td>\n",
       "      <td>&lt;=50K</td>\n",
       "    </tr>\n",
       "    <tr>\n",
       "      <td>32560</td>\n",
       "      <td>22</td>\n",
       "      <td>Private</td>\n",
       "      <td>HS-grad</td>\n",
       "      <td>9</td>\n",
       "      <td>Never-married</td>\n",
       "      <td>Adm-clerical</td>\n",
       "      <td>Own-child</td>\n",
       "      <td>White</td>\n",
       "      <td>Male</td>\n",
       "      <td>0</td>\n",
       "      <td>0</td>\n",
       "      <td>20</td>\n",
       "      <td>United-States</td>\n",
       "      <td>&lt;=50K</td>\n",
       "    </tr>\n",
       "  </tbody>\n",
       "</table>\n",
       "<p>32561 rows × 14 columns</p>\n",
       "</div>"
      ],
      "text/plain": [
       "       age workclass     education  education.num      marital.status  \\\n",
       "0       90         ?       HS-grad              9             Widowed   \n",
       "1       82   Private       HS-grad              9             Widowed   \n",
       "2       66         ?  Some-college             10             Widowed   \n",
       "3       54   Private       7th-8th              4            Divorced   \n",
       "4       41   Private  Some-college             10           Separated   \n",
       "...    ...       ...           ...            ...                 ...   \n",
       "32556   22   Private  Some-college             10       Never-married   \n",
       "32557   27   Private    Assoc-acdm             12  Married-civ-spouse   \n",
       "32558   40   Private       HS-grad              9  Married-civ-spouse   \n",
       "32559   58   Private       HS-grad              9             Widowed   \n",
       "32560   22   Private       HS-grad              9       Never-married   \n",
       "\n",
       "              occupation   relationship   race     sex  capital.gain  \\\n",
       "0                      ?  Not-in-family  White  Female             0   \n",
       "1        Exec-managerial  Not-in-family  White  Female             0   \n",
       "2                      ?      Unmarried  Black  Female             0   \n",
       "3      Machine-op-inspct      Unmarried  White  Female             0   \n",
       "4         Prof-specialty      Own-child  White  Female             0   \n",
       "...                  ...            ...    ...     ...           ...   \n",
       "32556    Protective-serv  Not-in-family  White    Male             0   \n",
       "32557       Tech-support           Wife  White  Female             0   \n",
       "32558  Machine-op-inspct        Husband  White    Male             0   \n",
       "32559       Adm-clerical      Unmarried  White  Female             0   \n",
       "32560       Adm-clerical      Own-child  White    Male             0   \n",
       "\n",
       "       capital.loss  hours.per.week native.country income  \n",
       "0              4356              40  United-States  <=50K  \n",
       "1              4356              18  United-States  <=50K  \n",
       "2              4356              40  United-States  <=50K  \n",
       "3              3900              40  United-States  <=50K  \n",
       "4              3900              40  United-States  <=50K  \n",
       "...             ...             ...            ...    ...  \n",
       "32556             0              40  United-States  <=50K  \n",
       "32557             0              38  United-States  <=50K  \n",
       "32558             0              40  United-States   >50K  \n",
       "32559             0              40  United-States  <=50K  \n",
       "32560             0              20  United-States  <=50K  \n",
       "\n",
       "[32561 rows x 14 columns]"
      ]
     },
     "execution_count": 80,
     "metadata": {},
     "output_type": "execute_result"
    }
   ],
   "source": [
    "adult"
   ]
  },
  {
   "cell_type": "markdown",
   "metadata": {},
   "source": [
    "# Traitement des valeurs manquantes :"
   ]
  },
  {
   "cell_type": "markdown",
   "metadata": {},
   "source": [
    "Pour savoir plus détaillement, on utilise des carrés pour représenter les indicateurs.\n",
    "(Nous voulons utiliser le methode matrix de la package missingo)"
   ]
  },
  {
   "cell_type": "code",
   "execution_count": 81,
   "metadata": {},
   "outputs": [
    {
     "data": {
      "text/plain": [
       "<matplotlib.axes._subplots.AxesSubplot at 0x177b0b8d508>"
      ]
     },
     "execution_count": 81,
     "metadata": {},
     "output_type": "execute_result"
    },
    {
     "data": {
      "image/png": "[encoded data removed]",
      "text/plain": [
       "<Figure size 1800x720 with 2 Axes>"
      ]
     },
     "metadata": {},
     "output_type": "display_data"
    }
   ],
   "source": [
    "import missingno as migno\n",
    "migno.matrix(adult)"
   ]
  },
  {
   "cell_type": "markdown",
   "metadata": {},
   "source": [
    "Mais dans ce tableau, nous ne pouvons pas savoir les informations, parce qu'il montre pas les valeurs manquants.\n",
    "\n",
    "(c'est parce que les valeurs manquants sont écrits par les points d'interrogations, et maintenant nous devons remplacer les points d'interrogation par le valeur \"NaN\")"
   ]
  },
  {
   "cell_type": "code",
   "execution_count": 82,
   "metadata": {},
   "outputs": [
    {
     "data": {
      "text/html": [
       "<div>\n",
       "<style scoped>\n",
       "    .dataframe tbody tr th:only-of-type {\n",
       "        vertical-align: middle;\n",
       "    }\n",
       "\n",
       "    .dataframe tbody tr th {\n",
       "        vertical-align: top;\n",
       "    }\n",
       "\n",
       "    .dataframe thead th {\n",
       "        text-align: right;\n",
       "    }\n",
       "</style>\n",
       "<table border=\"1\" class=\"dataframe\">\n",
       "  <thead>\n",
       "    <tr style=\"text-align: right;\">\n",
       "      <th></th>\n",
       "      <th>age</th>\n",
       "      <th>workclass</th>\n",
       "      <th>education</th>\n",
       "      <th>education.num</th>\n",
       "      <th>marital.status</th>\n",
       "      <th>occupation</th>\n",
       "      <th>relationship</th>\n",
       "      <th>race</th>\n",
       "      <th>sex</th>\n",
       "      <th>capital.gain</th>\n",
       "      <th>capital.loss</th>\n",
       "      <th>hours.per.week</th>\n",
       "      <th>native.country</th>\n",
       "      <th>income</th>\n",
       "    </tr>\n",
       "  </thead>\n",
       "  <tbody>\n",
       "    <tr>\n",
       "      <td>count</td>\n",
       "      <td>32561.000000</td>\n",
       "      <td>30725</td>\n",
       "      <td>32561</td>\n",
       "      <td>32561.000000</td>\n",
       "      <td>32561</td>\n",
       "      <td>30718</td>\n",
       "      <td>32561</td>\n",
       "      <td>32561</td>\n",
       "      <td>32561</td>\n",
       "      <td>32561.000000</td>\n",
       "      <td>32561.000000</td>\n",
       "      <td>32561.000000</td>\n",
       "      <td>31978</td>\n",
       "      <td>32561</td>\n",
       "    </tr>\n",
       "    <tr>\n",
       "      <td>unique</td>\n",
       "      <td>NaN</td>\n",
       "      <td>8</td>\n",
       "      <td>16</td>\n",
       "      <td>NaN</td>\n",
       "      <td>7</td>\n",
       "      <td>14</td>\n",
       "      <td>6</td>\n",
       "      <td>5</td>\n",
       "      <td>2</td>\n",
       "      <td>NaN</td>\n",
       "      <td>NaN</td>\n",
       "      <td>NaN</td>\n",
       "      <td>41</td>\n",
       "      <td>2</td>\n",
       "    </tr>\n",
       "    <tr>\n",
       "      <td>top</td>\n",
       "      <td>NaN</td>\n",
       "      <td>Private</td>\n",
       "      <td>HS-grad</td>\n",
       "      <td>NaN</td>\n",
       "      <td>Married-civ-spouse</td>\n",
       "      <td>Prof-specialty</td>\n",
       "      <td>Husband</td>\n",
       "      <td>White</td>\n",
       "      <td>Male</td>\n",
       "      <td>NaN</td>\n",
       "      <td>NaN</td>\n",
       "      <td>NaN</td>\n",
       "      <td>United-States</td>\n",
       "      <td>&lt;=50K</td>\n",
       "    </tr>\n",
       "    <tr>\n",
       "      <td>freq</td>\n",
       "      <td>NaN</td>\n",
       "      <td>22696</td>\n",
       "      <td>10501</td>\n",
       "      <td>NaN</td>\n",
       "      <td>14976</td>\n",
       "      <td>4140</td>\n",
       "      <td>13193</td>\n",
       "      <td>27816</td>\n",
       "      <td>21790</td>\n",
       "      <td>NaN</td>\n",
       "      <td>NaN</td>\n",
       "      <td>NaN</td>\n",
       "      <td>29170</td>\n",
       "      <td>24720</td>\n",
       "    </tr>\n",
       "    <tr>\n",
       "      <td>mean</td>\n",
       "      <td>38.581647</td>\n",
       "      <td>NaN</td>\n",
       "      <td>NaN</td>\n",
       "      <td>10.080679</td>\n",
       "      <td>NaN</td>\n",
       "      <td>NaN</td>\n",
       "      <td>NaN</td>\n",
       "      <td>NaN</td>\n",
       "      <td>NaN</td>\n",
       "      <td>1077.648844</td>\n",
       "      <td>87.303830</td>\n",
       "      <td>40.437456</td>\n",
       "      <td>NaN</td>\n",
       "      <td>NaN</td>\n",
       "    </tr>\n",
       "    <tr>\n",
       "      <td>std</td>\n",
       "      <td>13.640433</td>\n",
       "      <td>NaN</td>\n",
       "      <td>NaN</td>\n",
       "      <td>2.572720</td>\n",
       "      <td>NaN</td>\n",
       "      <td>NaN</td>\n",
       "      <td>NaN</td>\n",
       "      <td>NaN</td>\n",
       "      <td>NaN</td>\n",
       "      <td>7385.292085</td>\n",
       "      <td>402.960219</td>\n",
       "      <td>12.347429</td>\n",
       "      <td>NaN</td>\n",
       "      <td>NaN</td>\n",
       "    </tr>\n",
       "    <tr>\n",
       "      <td>min</td>\n",
       "      <td>17.000000</td>\n",
       "      <td>NaN</td>\n",
       "      <td>NaN</td>\n",
       "      <td>1.000000</td>\n",
       "      <td>NaN</td>\n",
       "      <td>NaN</td>\n",
       "      <td>NaN</td>\n",
       "      <td>NaN</td>\n",
       "      <td>NaN</td>\n",
       "      <td>0.000000</td>\n",
       "      <td>0.000000</td>\n",
       "      <td>1.000000</td>\n",
       "      <td>NaN</td>\n",
       "      <td>NaN</td>\n",
       "    </tr>\n",
       "    <tr>\n",
       "      <td>25%</td>\n",
       "      <td>28.000000</td>\n",
       "      <td>NaN</td>\n",
       "      <td>NaN</td>\n",
       "      <td>9.000000</td>\n",
       "      <td>NaN</td>\n",
       "      <td>NaN</td>\n",
       "      <td>NaN</td>\n",
       "      <td>NaN</td>\n",
       "      <td>NaN</td>\n",
       "      <td>0.000000</td>\n",
       "      <td>0.000000</td>\n",
       "      <td>40.000000</td>\n",
       "      <td>NaN</td>\n",
       "      <td>NaN</td>\n",
       "    </tr>\n",
       "    <tr>\n",
       "      <td>50%</td>\n",
       "      <td>37.000000</td>\n",
       "      <td>NaN</td>\n",
       "      <td>NaN</td>\n",
       "      <td>10.000000</td>\n",
       "      <td>NaN</td>\n",
       "      <td>NaN</td>\n",
       "      <td>NaN</td>\n",
       "      <td>NaN</td>\n",
       "      <td>NaN</td>\n",
       "      <td>0.000000</td>\n",
       "      <td>0.000000</td>\n",
       "      <td>40.000000</td>\n",
       "      <td>NaN</td>\n",
       "      <td>NaN</td>\n",
       "    </tr>\n",
       "    <tr>\n",
       "      <td>75%</td>\n",
       "      <td>48.000000</td>\n",
       "      <td>NaN</td>\n",
       "      <td>NaN</td>\n",
       "      <td>12.000000</td>\n",
       "      <td>NaN</td>\n",
       "      <td>NaN</td>\n",
       "      <td>NaN</td>\n",
       "      <td>NaN</td>\n",
       "      <td>NaN</td>\n",
       "      <td>0.000000</td>\n",
       "      <td>0.000000</td>\n",
       "      <td>45.000000</td>\n",
       "      <td>NaN</td>\n",
       "      <td>NaN</td>\n",
       "    </tr>\n",
       "    <tr>\n",
       "      <td>max</td>\n",
       "      <td>90.000000</td>\n",
       "      <td>NaN</td>\n",
       "      <td>NaN</td>\n",
       "      <td>16.000000</td>\n",
       "      <td>NaN</td>\n",
       "      <td>NaN</td>\n",
       "      <td>NaN</td>\n",
       "      <td>NaN</td>\n",
       "      <td>NaN</td>\n",
       "      <td>99999.000000</td>\n",
       "      <td>4356.000000</td>\n",
       "      <td>99.000000</td>\n",
       "      <td>NaN</td>\n",
       "      <td>NaN</td>\n",
       "    </tr>\n",
       "  </tbody>\n",
       "</table>\n",
       "</div>"
      ],
      "text/plain": [
       "                 age workclass education  education.num      marital.status  \\\n",
       "count   32561.000000     30725     32561   32561.000000               32561   \n",
       "unique           NaN         8        16            NaN                   7   \n",
       "top              NaN   Private   HS-grad            NaN  Married-civ-spouse   \n",
       "freq             NaN     22696     10501            NaN               14976   \n",
       "mean       38.581647       NaN       NaN      10.080679                 NaN   \n",
       "std        13.640433       NaN       NaN       2.572720                 NaN   \n",
       "min        17.000000       NaN       NaN       1.000000                 NaN   \n",
       "25%        28.000000       NaN       NaN       9.000000                 NaN   \n",
       "50%        37.000000       NaN       NaN      10.000000                 NaN   \n",
       "75%        48.000000       NaN       NaN      12.000000                 NaN   \n",
       "max        90.000000       NaN       NaN      16.000000                 NaN   \n",
       "\n",
       "            occupation relationship   race    sex  capital.gain  capital.loss  \\\n",
       "count            30718        32561  32561  32561  32561.000000  32561.000000   \n",
       "unique              14            6      5      2           NaN           NaN   \n",
       "top     Prof-specialty      Husband  White   Male           NaN           NaN   \n",
       "freq              4140        13193  27816  21790           NaN           NaN   \n",
       "mean               NaN          NaN    NaN    NaN   1077.648844     87.303830   \n",
       "std                NaN          NaN    NaN    NaN   7385.292085    402.960219   \n",
       "min                NaN          NaN    NaN    NaN      0.000000      0.000000   \n",
       "25%                NaN          NaN    NaN    NaN      0.000000      0.000000   \n",
       "50%                NaN          NaN    NaN    NaN      0.000000      0.000000   \n",
       "75%                NaN          NaN    NaN    NaN      0.000000      0.000000   \n",
       "max                NaN          NaN    NaN    NaN  99999.000000   4356.000000   \n",
       "\n",
       "        hours.per.week native.country income  \n",
       "count     32561.000000          31978  32561  \n",
       "unique             NaN             41      2  \n",
       "top                NaN  United-States  <=50K  \n",
       "freq               NaN          29170  24720  \n",
       "mean         40.437456            NaN    NaN  \n",
       "std          12.347429            NaN    NaN  \n",
       "min           1.000000            NaN    NaN  \n",
       "25%          40.000000            NaN    NaN  \n",
       "50%          40.000000            NaN    NaN  \n",
       "75%          45.000000            NaN    NaN  \n",
       "max          99.000000            NaN    NaN  "
      ]
     },
     "execution_count": 82,
     "metadata": {},
     "output_type": "execute_result"
    }
   ],
   "source": [
    "adult.replace(to_replace='?',value=np.nan,inplace=True)\n",
    "adult.describe(include='all')"
   ]
  },
  {
   "cell_type": "markdown",
   "metadata": {},
   "source": [
    "Nous pouvons savoir que mainteant on a arrivé à remplacer les points d'interrogation par \"NaN\",donc on va refaire la matrix.\n",
    "\n",
    "Les blancs dans les carrés pour représenter les emplacements des données manquantes, ce qui est pratique pour observer ces données pour chaque indicateur ainsi que leurs distributions.\n",
    "\n",
    "Il existe de nombreuses valeurs manquantes dans workclass, occupation et native.country.\n",
    "\n",
    "On va par la suite dessiner un histogramme des valeurs manquantes. Cet histogramme compte les valeurs manquantes de chaque indicateur et affiche le nombre de valeurs manquantes de l'indicateur sous forme de graphique à barres.\n"
   ]
  },
  {
   "cell_type": "code",
   "execution_count": 83,
   "metadata": {
    "scrolled": true
   },
   "outputs": [
    {
     "data": {
      "text/plain": [
       "<matplotlib.axes._subplots.AxesSubplot at 0x177b1e3ee88>"
      ]
     },
     "execution_count": 83,
     "metadata": {},
     "output_type": "execute_result"
    },
    {
     "data": {
      "image/png": "[encoded data removed]",
      "text/plain": [
       "<Figure size 1800x720 with 2 Axes>"
      ]
     },
     "metadata": {},
     "output_type": "display_data"
    }
   ],
   "source": [
    "migno.matrix(adult)"
   ]
  },
  {
   "cell_type": "markdown",
   "metadata": {},
   "source": [
    "\n",
    "L'histogramme montre qu'il existe différents degrés de valeurs manquantes selon occupation, workclass et native country. Les autres indicateurs ne comportent aucune valeur manquante.\n",
    "\n",
    "Parmi eux, la variable native country comporte le plus de valeurs manquantes, suivi de workclass et de country.\n"
   ]
  },
  {
   "cell_type": "code",
   "execution_count": 84,
   "metadata": {},
   "outputs": [
    {
     "data": {
      "text/plain": [
       "<matplotlib.axes._subplots.AxesSubplot at 0x177b173a908>"
      ]
     },
     "execution_count": 84,
     "metadata": {},
     "output_type": "execute_result"
    },
    {
     "data": {
      "image/png": "[encoded data removed]",
      "text/plain": [
       "<Figure size 1440x360 with 3 Axes>"
      ]
     },
     "metadata": {},
     "output_type": "display_data"
    }
   ],
   "source": [
    "migno.bar(adult, sort='ascending', figsize = (20,5))  "
   ]
  },
  {
   "cell_type": "markdown",
   "metadata": {},
   "source": [
    "\n",
    "Grâce à l'analyse des valeurs manquantes faite précédemment, nous pouvons voir que le nombre de valeurs manquantes dans l'ensemble des données est petit et que le fait d'ignorer les échantillons contenant des valeurs manquantes a peu d'impact sur les données globales. \n",
    "\n",
    "Nous avons donc choisi de supprimer ces valeurs manquantes.\n"
   ]
  },
  {
   "cell_type": "markdown",
   "metadata": {},
   "source": [
    "# Ajustement des indicateurs de classification :"
   ]
  },
  {
   "cell_type": "markdown",
   "metadata": {},
   "source": [
    "# Workclass "
   ]
  },
  {
   "cell_type": "markdown",
   "metadata": {},
   "source": [
    "    \n",
    "Dans cet ensemble de données, il y a 8 catégories d'indicateurs de classe de travail.\n",
    "\n",
    "Nous avons dessiné un graphique à barres pour afficher le nombre d'échantillons différents. \n",
    "\n",
    "Le graphique à barres ci-dessous montre que les emplois privés représentent un pourcentage relativement important de l'échantillon, \n",
    "tandis que le nombre d'emplois non actifs et non rémunérés sont extrêmement faible. Sur la base de la situation réelle, ils sont classés en cinq catégories.\n"
   ]
  },
  {
   "cell_type": "code",
   "execution_count": 8,
   "metadata": {},
   "outputs": [
    {
     "data": {
      "text/plain": [
       "<matplotlib.axes._subplots.AxesSubplot at 0x29474de8188>"
      ]
     },
     "execution_count": 8,
     "metadata": {},
     "output_type": "execute_result"
    },
    {
     "data": {
      "image/png": "[encoded data removed]",
      "text/plain": [
       "<Figure size 1080x288 with 1 Axes>"
      ]
     },
     "metadata": {},
     "output_type": "display_data"
    }
   ],
   "source": [
    "import seaborn as sns\n",
    "plt.style.use('seaborn-whitegrid')  \n",
    "plt.figure(figsize=(15, 4))   \n",
    "sns.countplot(y=\"workclass\", data=adult)"
   ]
  },
  {
   "cell_type": "markdown",
   "metadata": {},
   "source": [
    "# Occupation :"
   ]
  },
  {
   "cell_type": "markdown",
   "metadata": {},
   "source": [
    "Il existe 14 types de professions dans cet ensemble de données:"
   ]
  },
  {
   "cell_type": "code",
   "execution_count": 86,
   "metadata": {},
   "outputs": [
    {
     "data": {
      "text/plain": [
       "<matplotlib.axes._subplots.AxesSubplot at 0x177b103da88>"
      ]
     },
     "execution_count": 86,
     "metadata": {},
     "output_type": "execute_result"
    },
    {
     "data": {
      "image/png": "[encoded data removed]",
      "text/plain": [
       "<Figure size 1080x360 with 1 Axes>"
      ]
     },
     "metadata": {},
     "output_type": "display_data"
    }
   ],
   "source": [
    "plt.style.use('seaborn-whitegrid')  \n",
    "plt.figure(figsize=(15,5))   \n",
    "sns.countplot(y=\"occupation\", data=adult)"
   ]
  },
  {
   "cell_type": "markdown",
   "metadata": {},
   "source": [
    "\n",
    "À cause des plusieurs attributs dans la variable 'occupation' donc nous voulons refaire la classification pour cette variable.\n",
    "\n",
    "Nous voulons simplifier la variable emploi aussi par 6 classes : Admin, Military,Manual Labour, Office Labour, Service, Professional.\n"
   ]
  },
  {
   "cell_type": "code",
   "execution_count": 87,
   "metadata": {},
   "outputs": [
    {
     "data": {
      "text/plain": [
       "<matplotlib.axes._subplots.AxesSubplot at 0x177b178d9c8>"
      ]
     },
     "execution_count": 87,
     "metadata": {},
     "output_type": "execute_result"
    },
    {
     "data": {
      "image/png": "[encoded data removed]",
      "text/plain": [
       "<Figure size 1440x216 with 1 Axes>"
      ]
     },
     "metadata": {},
     "output_type": "display_data"
    }
   ],
   "source": [
    "adult.loc[adult['occupation'] == 'Adm-clerical', 'occupation'] = 'Admin'  \n",
    "adult.loc[adult['occupation'] == 'Armed-Forces', 'occupation'] = 'Military'    \n",
    "adult.loc[adult['occupation'] == 'Protective-serv', 'occupation'] = 'Military'  \n",
    "adult.loc[adult['occupation'] == 'Craft-repair', 'occupation'] = 'Manual Labour'  \n",
    "adult.loc[adult['occupation'] == 'Transport-moving', 'occupation'] = 'Manual Labour'    \n",
    "adult.loc[adult['occupation'] == 'Farming-fishing', 'occupation'] = 'Manual Labour'    \n",
    "adult.loc[adult['occupation'] == 'Handlers-cleaners', 'occupation'] = 'Manual Labour'   \n",
    "adult.loc[adult['occupation'] == 'Machine-op-inspct', 'occupation'] = 'Manual Labour'   \n",
    "adult.loc[adult['occupation'] == 'Exec-managerial', 'occupation'] = 'Office Labour'  \n",
    "adult.loc[adult['occupation'] == 'Sales', 'occupation'] = 'Office Labour'   \n",
    "adult.loc[adult['occupation'] == 'Tech-support', 'occupation'] = 'Office Labour'    \n",
    "adult.loc[adult['occupation'] == 'Other-service', 'occupation'] = 'Service'\n",
    "adult.loc[adult['occupation'] == 'Priv-house-serv', 'occupation'] = 'Service' \n",
    "adult.loc[adult['occupation'] == 'Prof-specialty', 'occupation'] = 'Professional'  \n",
    "  \n",
    "plt.style.use('seaborn-whitegrid')  \n",
    "fig = plt.figure(figsize=(20,3))  \n",
    "sns.countplot(y=\"occupation\", data=adult)\n"
   ]
  },
  {
   "cell_type": "markdown",
   "metadata": {},
   "source": [
    "# Niveau d’éducation "
   ]
  },
  {
   "cell_type": "markdown",
   "metadata": {},
   "source": [
    "Le graphique ci-dessous montre qu'il existe jusqu'à 16 catégories de niveau d'éducation. \n",
    "\n",
    "En générant un graphique à barres, on peut voir que le nombre de catégories à faible niveau d'éducation est relativement faible."
   ]
  },
  {
   "cell_type": "code",
   "execution_count": 88,
   "metadata": {},
   "outputs": [
    {
     "data": {
      "text/plain": [
       "<matplotlib.axes._subplots.AxesSubplot at 0x177b113fbc8>"
      ]
     },
     "execution_count": 88,
     "metadata": {},
     "output_type": "execute_result"
    },
    {
     "data": {
      "image/png": "[encoded data removed]",
      "text/plain": [
       "<Figure size 1080x360 with 1 Axes>"
      ]
     },
     "metadata": {},
     "output_type": "display_data"
    }
   ],
   "source": [
    "plt.style.use('seaborn-whitegrid')  \n",
    "plt.figure(figsize=(15,5))   \n",
    "sns.countplot(y=\"education\", data=adult)"
   ]
  },
  {
   "cell_type": "markdown",
   "metadata": {},
   "source": [
    "Nous voulons simplifier la variable éducation par 8 classes : Bachelors, Professor, Doctorate, Master, Dropout, HS-grad, HS-graduate, Associate."
   ]
  },
  {
   "cell_type": "code",
   "execution_count": 89,
   "metadata": {},
   "outputs": [
    {
     "data": {
      "text/plain": [
       "<matplotlib.axes._subplots.AxesSubplot at 0x177b21ba588>"
      ]
     },
     "execution_count": 89,
     "metadata": {},
     "output_type": "execute_result"
    },
    {
     "data": {
      "image/png": "[encoded data removed]",
      "text/plain": [
       "<Figure size 1080x288 with 1 Axes>"
      ]
     },
     "metadata": {},
     "output_type": "display_data"
    }
   ],
   "source": [
    "adult.loc[adult['education'] == 'Preschool', 'education'] = 'Dropout'   \n",
    "adult.loc[adult['education'] == '1st-4th', 'education'] = 'Dropout'\n",
    "adult.loc[adult['education'] == '5th-6th', 'education'] = 'Dropout'   \n",
    "adult.loc[adult['education'] == '7th-8th', 'education'] = 'Dropout'   \n",
    "adult.loc[adult['education'] == '9th', 'education'] = 'Dropout'    \n",
    "adult.loc[adult['education'] == '10th', 'education'] = 'Dropout'  \n",
    "adult.loc[adult['education'] == '11th', 'education'] = 'Dropout'   \n",
    "adult.loc[adult['education'] == '12th', 'education'] = 'Dropout'   \n",
    "adult.loc[adult['education'] == 'Assoc-acdm', 'education'] = 'Associate'  \n",
    "adult.loc[adult['education'] == 'Assoc-voc', 'education'] = 'Associate'  \n",
    "adult.loc[adult['education'] == 'HS-Grad', 'education'] = 'HS-Graduate'    \n",
    "adult.loc[adult['education'] == 'Some-college', 'education'] = 'HS-Graduate'    \n",
    "adult.loc[adult['education'] == 'Prof-school', 'education'] = 'Professor'    \n",
    "adult.loc[adult['education'] == 'Bachelors', 'education'] = 'Bachelors'    \n",
    "adult.loc[adult['education'] == 'Masters', 'education'] = 'Masters'    \n",
    "adult.loc[adult['education'] == 'Doctorate', 'education'] = 'Doctorate'    \n",
    "  \n",
    "plt.style.use('seaborn-whitegrid')  \n",
    "fig = plt.figure(figsize=(15,4))   \n",
    "sns.countplot(y=\"education\", data=adult)"
   ]
  },
  {
   "cell_type": "markdown",
   "metadata": {},
   "source": [
    "# Marital statu :"
   ]
  },
  {
   "cell_type": "markdown",
   "metadata": {},
   "source": [
    "On peut remarquer qu’il y’a plus de personnes mariées suivi par jamais marié et par divorcé."
   ]
  },
  {
   "cell_type": "code",
   "execution_count": 90,
   "metadata": {},
   "outputs": [
    {
     "data": {
      "text/plain": [
       "<matplotlib.axes._subplots.AxesSubplot at 0x177b21b1648>"
      ]
     },
     "execution_count": 90,
     "metadata": {},
     "output_type": "execute_result"
    },
    {
     "data": {
      "image/png": "[encoded data removed]",
      "text/plain": [
       "<Figure size 1080x360 with 1 Axes>"
      ]
     },
     "metadata": {},
     "output_type": "display_data"
    }
   ],
   "source": [
    "plt.style.use('seaborn-whitegrid')  \n",
    "plt.figure(figsize=(15,5))   \n",
    "sns.countplot(y=\"marital.status\", data=adult)"
   ]
  },
  {
   "cell_type": "markdown",
   "metadata": {},
   "source": [
    "\n",
    "Nous avons par la suite divisé la variable âge afin d'avoir une meilleure analyse et nous avons dessiné un graphique pour montrer la corrélation entre la variable âge et éducation :\n",
    "\n",
    "Nous observons plusieurs types dans certaines variables (ensemble données).\n",
    "\n",
    "Par exemple pour la variable âge : si on veut l'étudier, nous aurons beaucoup de valeurs dans l'axe X, donc pour laisser ces valeurs en axes des X et avoir une présentation plus lisible on l'a divisé comme ceci, Nous écrivons une fonction ‘age1’ pour regrouper l'âge par 6 groupes.\n",
    "\n",
    "Nous écrivons une fonction \"age1\" pour regrouper l'âge par 6 groupes.\n"
   ]
  },
  {
   "cell_type": "code",
   "execution_count": 91,
   "metadata": {},
   "outputs": [
    {
     "data": {
      "text/plain": [
       "0         sup 60\n",
       "1         sup 60\n",
       "2         sup 60\n",
       "3        50 à 60\n",
       "4        40 à 50\n",
       "          ...   \n",
       "32556    20 à 30\n",
       "32557    20 à 30\n",
       "32558    30 à 40\n",
       "32559    50 à 60\n",
       "32560    20 à 30\n",
       "Name: age1, Length: 32561, dtype: object"
      ]
     },
     "execution_count": 91,
     "metadata": {},
     "output_type": "execute_result"
    }
   ],
   "source": [
    "def age1(x):\n",
    "\n",
    "    if 60 < x:\n",
    "        return 'sup 60'\n",
    "    elif 50 < x <= 60:\n",
    "        return'50 à 60'\n",
    "    elif 40 < x <= 50:\n",
    "        return '40 à 50'\n",
    "    elif 30 < x <= 40:\n",
    "        return '30 à 40'\n",
    "    elif 20 < x <= 30:\n",
    "        return '20 à 30'\n",
    "    else:\n",
    "        return 'inf 20'\n",
    "   \n",
    "adult['age1']=adult.loc[:,'age'].apply(lambda x:age1(x),)\n",
    "adult['age1']"
   ]
  },
  {
   "cell_type": "markdown",
   "metadata": {},
   "source": [
    "Nous utilisons le méthode factorplot du package seaborn pour connaitre la distribution de la variable éducation sur l'âge.\n",
    "\n",
    "Avec ce graphique nous pouvons remarquer que l’intervalle lycée (Hs-grad) occupe une partie très importante. Mais, concernant les personnes ayant moins de 20 ans, le nombre de personnes qui n’ont pas de diplôme universitaire(Some-college) est supérieur au nombre de personne qui ont un diplôme lycée. \n",
    "\n",
    "Et nous pouvons aussi dire que la distribution de ‘Hs-grad’ suit une loi normale sur ce graphique.\n"
   ]
  },
  {
   "cell_type": "code",
   "execution_count": 92,
   "metadata": {},
   "outputs": [
    {
     "name": "stderr",
     "output_type": "stream",
     "text": [
      "C:\\Users\\lenovo\\Anaconda3\\lib\\site-packages\\seaborn\\categorical.py:3666: UserWarning: The `factorplot` function has been renamed to `catplot`. The original name will be removed in a future release. Please update your code. Note that the default `kind` in `factorplot` (`'point'`) has changed `'strip'` in `catplot`.\n",
      "  warnings.warn(msg)\n"
     ]
    },
    {
     "data": {
      "text/plain": [
       "<seaborn.axisgrid.FacetGrid at 0x177b2ccd7c8>"
      ]
     },
     "execution_count": 92,
     "metadata": {},
     "output_type": "execute_result"
    },
    {
     "data": {
      "image/png": "[encoded data removed]",
      "text/plain": [
       "<Figure size 455.125x360 with 1 Axes>"
      ]
     },
     "metadata": {},
     "output_type": "display_data"
    }
   ],
   "source": [
    "sns.factorplot(\"age1\",data=adult,kind=\"count\",hue=\"education\")"
   ]
  },
  {
   "cell_type": "markdown",
   "metadata": {},
   "source": [
    "Par la suite, nous avons étudié la relation entre l'age et l'état civil en suivant la même méthode précédemment évoquée.\n",
    "\n",
    "Avec ce graphique-là, nous pouvons remarquer que les personnes de plus de 20 ans sont majoritairement (Married-civ-spousse). Cependant, la distribution (divorced) suit presque une loi normale. \n",
    "\n",
    "Concernant les personnes de plus de 20 ans, le pourcentage de (Never-married) diminue et ( Separated) diminue en fonction de l'augmentation de l'âge.\n"
   ]
  },
  {
   "cell_type": "code",
   "execution_count": 93,
   "metadata": {},
   "outputs": [
    {
     "data": {
      "text/plain": [
       "<seaborn.axisgrid.FacetGrid at 0x177b21b1c08>"
      ]
     },
     "execution_count": 93,
     "metadata": {},
     "output_type": "execute_result"
    },
    {
     "data": {
      "image/png": "[encoded data removed]",
      "text/plain": [
       "<Figure size 499.625x360 with 1 Axes>"
      ]
     },
     "metadata": {},
     "output_type": "display_data"
    }
   ],
   "source": [
    "sns.factorplot(\"age1\",data=adult,kind=\"count\",hue=\"marital.status\")"
   ]
  },
  {
   "cell_type": "markdown",
   "metadata": {},
   "source": [
    "Nous voulons aussi étudier la relation entre le revenu et le sexe :\n",
    "\n",
    "Nous remarquons que les hommes gagnent plus que les femmes dans les deux cas <=50k et >50k, et la proportion de l'homme sur les gens qui gagnent plus de 50K$ est supérieur que la proportion de la femme.\n"
   ]
  },
  {
   "cell_type": "code",
   "execution_count": 94,
   "metadata": {
    "scrolled": true
   },
   "outputs": [
    {
     "data": {
      "text/plain": [
       "<seaborn.axisgrid.FacetGrid at 0x177a874eac8>"
      ]
     },
     "execution_count": 94,
     "metadata": {},
     "output_type": "execute_result"
    },
    {
     "data": {
      "image/png": "[encoded data removed]",
      "text/plain": [
       "<Figure size 425.25x360 with 1 Axes>"
      ]
     },
     "metadata": {},
     "output_type": "display_data"
    }
   ],
   "source": [
    "sns.factorplot(\"sex\",data=adult,kind=\"count\",hue=\"income\")"
   ]
  },
  {
   "cell_type": "markdown",
   "metadata": {},
   "source": [
    "\n",
    "La corrélation entre la variable age et la variable sexe\n",
    "\n",
    "Pour les personnes qui ont moins de 20 ans, le pourcentage des hommes et des femmes sont presque similaire. \n",
    "\n",
    "Pour les personnes de plus de 20 ans, la proportion des femme est significativement supérieur à celle des hommes.\n"
   ]
  },
  {
   "cell_type": "code",
   "execution_count": 95,
   "metadata": {
    "scrolled": true
   },
   "outputs": [
    {
     "data": {
      "text/plain": [
       "<seaborn.axisgrid.FacetGrid at 0x177a8430a48>"
      ]
     },
     "execution_count": 95,
     "metadata": {},
     "output_type": "execute_result"
    },
    {
     "data": {
      "image/png": "[encoded data removed]",
      "text/plain": [
       "<Figure size 429.375x360 with 1 Axes>"
      ]
     },
     "metadata": {},
     "output_type": "display_data"
    }
   ],
   "source": [
    "sns.factorplot('age1', data=adult, kind='count',hue='sex')"
   ]
  },
  {
   "cell_type": "markdown",
   "metadata": {},
   "source": [
    "\n",
    "La relation entre l'âge et l'occupation\n"
   ]
  },
  {
   "cell_type": "code",
   "execution_count": 96,
   "metadata": {},
   "outputs": [
    {
     "data": {
      "text/plain": [
       "<seaborn.axisgrid.FacetGrid at 0x177a858f648>"
      ]
     },
     "execution_count": 96,
     "metadata": {},
     "output_type": "execute_result"
    },
    {
     "data": {
      "image/png": "[encoded data removed]",
      "text/plain": [
       "<Figure size 463.125x360 with 1 Axes>"
      ]
     },
     "metadata": {},
     "output_type": "display_data"
    }
   ],
   "source": [
    "sns.factorplot(\"age1\",data=adult,kind=\"count\",hue=\"occupation\")"
   ]
  },
  {
   "cell_type": "markdown",
   "metadata": {},
   "source": [
    "\n",
    "Nous étudions la relation entre les deux variables race et income :\n",
    "\n",
    "Nous pouvons dire que peu importe la race, la proportion des gens qui gagnent <= 50,000$ est très importante. Mais, la race blanche qui gagnent >50,000 est nettement supérieur à celle de la race noire.\n"
   ]
  },
  {
   "cell_type": "code",
   "execution_count": 97,
   "metadata": {},
   "outputs": [
    {
     "data": {
      "text/plain": [
       "<seaborn.axisgrid.FacetGrid at 0x177a85a1c08>"
      ]
     },
     "execution_count": 97,
     "metadata": {},
     "output_type": "execute_result"
    },
    {
     "data": {
      "image/png": "[encoded data removed]",
      "text/plain": [
       "<Figure size 425.25x360 with 1 Axes>"
      ]
     },
     "metadata": {},
     "output_type": "display_data"
    }
   ],
   "source": [
    "sns.factorplot(\"race\",data=adult,kind=\"count\",hue=\"income\")"
   ]
  },
  {
   "cell_type": "markdown",
   "metadata": {},
   "source": [
    "\n",
    "Enfin, nous voulons étudier la corrélation entre l'éducation et la revenue.\n"
   ]
  },
  {
   "cell_type": "code",
   "execution_count": 98,
   "metadata": {},
   "outputs": [
    {
     "data": {
      "text/plain": [
       "<seaborn.axisgrid.FacetGrid at 0x177a85f7648>"
      ]
     },
     "execution_count": 98,
     "metadata": {},
     "output_type": "execute_result"
    },
    {
     "data": {
      "image/png": "[encoded data removed]",
      "text/plain": [
       "<Figure size 425.25x360 with 1 Axes>"
      ]
     },
     "metadata": {},
     "output_type": "display_data"
    }
   ],
   "source": [
    "sns.factorplot(\"education\",data=adult,kind=\"count\",hue=\"income\")"
   ]
  },
  {
   "cell_type": "markdown",
   "metadata": {},
   "source": [
    "\n",
    "Nous avons par la suite trouvé que nous pouvons connaître le capital total grâce aux variables \"capital gain\" et \"capital loss\".\n",
    " « Capital-total» = « Capital-gain » - « capital-loss »\n",
    " "
   ]
  },
  {
   "cell_type": "code",
   "execution_count": 2,
   "metadata": {},
   "outputs": [],
   "source": [
    "import pandas as pd\n",
    "adult['capital.total'] = adult['capital.gain'] - adult['capital.loss']\n",
    "adult[['capital.gain', 'capital.loss', 'capital.total']] = adult[['capital.gain', 'capital.loss', 'capital.total']].astype('int')\n",
    "adult = adult.sort_values(by='capital.total', ascending=False)\n",
    " \n",
    "adult.to_csv('adult1.csv', index=False)\n"
   ]
  },
  {
   "cell_type": "markdown",
   "metadata": {},
   "source": [
    "\n",
    "# La relation entre la variable dépendante et les autres variables explicatives \n"
   ]
  },
  {
   "cell_type": "markdown",
   "metadata": {},
   "source": [
    "D’abord, nous voulons agréger les données pour regarder la distribution selon les classes.\n",
    "\n",
    "Pour income (income <=50K et income >50K):\n",
    "\n",
    "on voit que les gens qui gagnent moins que 50K dollars sont la plupart (trois quarts), ce qui implique dans les Etats-Unis la plupart de gens sont de la classe moyenne. Des gens qui ont de salaire élevé (un quart) sont la minorité. Le jeu n'est pas équilibré."
   ]
  },
  {
   "cell_type": "code",
   "execution_count": 3,
   "metadata": {},
   "outputs": [
    {
     "data": {
      "text/html": [
       "<div>\n",
       "<style scoped>\n",
       "    .dataframe tbody tr th:only-of-type {\n",
       "        vertical-align: middle;\n",
       "    }\n",
       "\n",
       "    .dataframe tbody tr th {\n",
       "        vertical-align: top;\n",
       "    }\n",
       "\n",
       "    .dataframe thead th {\n",
       "        text-align: right;\n",
       "    }\n",
       "</style>\n",
       "<table border=\"1\" class=\"dataframe\">\n",
       "  <thead>\n",
       "    <tr style=\"text-align: right;\">\n",
       "      <th></th>\n",
       "      <th>occupation</th>\n",
       "    </tr>\n",
       "    <tr>\n",
       "      <th>income</th>\n",
       "      <th></th>\n",
       "    </tr>\n",
       "  </thead>\n",
       "  <tbody>\n",
       "    <tr>\n",
       "      <th>&lt;=50K</th>\n",
       "      <td>23068</td>\n",
       "    </tr>\n",
       "    <tr>\n",
       "      <th>&gt;50K</th>\n",
       "      <td>7650</td>\n",
       "    </tr>\n",
       "  </tbody>\n",
       "</table>\n",
       "</div>"
      ],
      "text/plain": [
       "        occupation\n",
       "income            \n",
       "<=50K        23068\n",
       ">50K          7650"
      ]
     },
     "execution_count": 3,
     "metadata": {},
     "output_type": "execute_result"
    }
   ],
   "source": [
    "adult.loc[:,['income','occupation']].groupby(by='income').count()"
   ]
  },
  {
   "cell_type": "markdown",
   "metadata": {},
   "source": [
    "\n",
    "En suite,nous voulons trouver le lien entre le revenue et les autres variable qui sont présentées par les chiffres avec la moyenne.\n"
   ]
  },
  {
   "cell_type": "code",
   "execution_count": 4,
   "metadata": {},
   "outputs": [
    {
     "data": {
      "text/html": [
       "<div>\n",
       "<style scoped>\n",
       "    .dataframe tbody tr th:only-of-type {\n",
       "        vertical-align: middle;\n",
       "    }\n",
       "\n",
       "    .dataframe tbody tr th {\n",
       "        vertical-align: top;\n",
       "    }\n",
       "\n",
       "    .dataframe thead th {\n",
       "        text-align: right;\n",
       "    }\n",
       "</style>\n",
       "<table border=\"1\" class=\"dataframe\">\n",
       "  <thead>\n",
       "    <tr style=\"text-align: right;\">\n",
       "      <th></th>\n",
       "      <th>age</th>\n",
       "      <th>education.num</th>\n",
       "      <th>capital.gain</th>\n",
       "      <th>capital.loss</th>\n",
       "      <th>hours.per.week</th>\n",
       "      <th>capital.total</th>\n",
       "    </tr>\n",
       "    <tr>\n",
       "      <th>income</th>\n",
       "      <th></th>\n",
       "      <th></th>\n",
       "      <th></th>\n",
       "      <th></th>\n",
       "      <th></th>\n",
       "      <th></th>\n",
       "    </tr>\n",
       "  </thead>\n",
       "  <tbody>\n",
       "    <tr>\n",
       "      <th>&lt;=50K</th>\n",
       "      <td>36.783738</td>\n",
       "      <td>9.595065</td>\n",
       "      <td>148.752468</td>\n",
       "      <td>53.142921</td>\n",
       "      <td>38.840210</td>\n",
       "      <td>95.609547</td>\n",
       "    </tr>\n",
       "    <tr>\n",
       "      <th>&gt;50K</th>\n",
       "      <td>44.249841</td>\n",
       "      <td>11.611657</td>\n",
       "      <td>4006.142456</td>\n",
       "      <td>195.001530</td>\n",
       "      <td>45.473026</td>\n",
       "      <td>3811.140926</td>\n",
       "    </tr>\n",
       "  </tbody>\n",
       "</table>\n",
       "</div>"
      ],
      "text/plain": [
       "              age  education.num  capital.gain  capital.loss  hours.per.week  \\\n",
       "income                                                                         \n",
       "<=50K   36.783738       9.595065    148.752468     53.142921       38.840210   \n",
       ">50K    44.249841      11.611657   4006.142456    195.001530       45.473026   \n",
       "\n",
       "        capital.total  \n",
       "income                 \n",
       "<=50K       95.609547  \n",
       ">50K      3811.140926  "
      ]
     },
     "execution_count": 4,
     "metadata": {},
     "output_type": "execute_result"
    }
   ],
   "source": [
    "adult.groupby(by='income').mean()"
   ]
  },
  {
   "cell_type": "markdown",
   "metadata": {},
   "source": [
    "\n",
    "Pour l'âge moyenne, celui des gens qui gagnent moins de 50K dollars est environ 37 ans, et 7 ans plus jeune que des gens qui gagnent plus que 50K dollars. On peut déduire que des gens âgés sont souvent plus expérimentés, ainsi ils gagnent plus que des gens jeunes.\n",
    "\n",
    "Pour le nombre de l’éducation moyenne, on a observé que des gens qui ont de salaire plus que 50K dollars ont un niveau d'éducation plus élevé. Ainsi on déduit que si on reçoit un niveau d’éducation plus élevé, on a plus grande possibilité d’avoir plus de salaire.\n",
    "\n",
    "Pour le \"capital gain\" moyen et le \"capital loss\" moyen, on voit que ceux qui gagnent plus que 50K dollars ont capital gain beaucoup plus grand que ceux qui gagnent moins, et ont \"capital loss\" juste tout petit peu plus grand que ceux qui gagnent moins. Alors ceux qui gagnent plus que 50K dollars ont le capital total, la différence entre le gain en capital et la perte en capital, beaucoup plus grand. Lorsque on vend une immobilisation, la différence entre la base ajustée de l’actif et le montant que on a réalisé de la vente est un gain en capital ou une perte en capital. On subbit une perte en capital si on vend l’actif à un prix inférieur à notre base ajustée. Donc le \"capital total\" plus grand, veut dire la capacité de produire le bénéfice plus grande, ainsi on gagne plus. Et on plus on a observé que le capital total plus grand grâce au gain en capital beaucoup plus grand, mais pas la perte en capital plus petite.\n",
    "\n",
    "Pour les heures par semaine moyennes, ceux qui gagnent plus de 50K dollars travaillent 7 heures de plus comparent avec ceux qui gagnent moins. On peut ainsi renverser la théorie que Des gens qui sont les plus assidus gagnent souvent moins que ceux qui travaille pas du tout. On voit que c’est sûr si on veut gagner plus, il faut jamais penser on peut travailler moins que les autres. Tout s’est pas basé dans une seule journée.\n",
    "\n",
    "\n"
   ]
  },
  {
   "cell_type": "markdown",
   "metadata": {},
   "source": [
    "\n",
    "Puis on regarde la statistique par l'âge:\n"
   ]
  },
  {
   "cell_type": "code",
   "execution_count": 4,
   "metadata": {},
   "outputs": [
    {
     "data": {
      "text/html": [
       "<div>\n",
       "<style scoped>\n",
       "    .dataframe tbody tr th:only-of-type {\n",
       "        vertical-align: middle;\n",
       "    }\n",
       "\n",
       "    .dataframe tbody tr th {\n",
       "        vertical-align: top;\n",
       "    }\n",
       "\n",
       "    .dataframe thead th {\n",
       "        text-align: right;\n",
       "    }\n",
       "</style>\n",
       "<table border=\"1\" class=\"dataframe\">\n",
       "  <thead>\n",
       "    <tr style=\"text-align: right;\">\n",
       "      <th></th>\n",
       "      <th>age</th>\n",
       "      <th>education.num</th>\n",
       "      <th>capital.gain</th>\n",
       "      <th>capital.loss</th>\n",
       "      <th>hours.per.week</th>\n",
       "      <th>capital.total</th>\n",
       "    </tr>\n",
       "    <tr>\n",
       "      <th>age1</th>\n",
       "      <th></th>\n",
       "      <th></th>\n",
       "      <th></th>\n",
       "      <th></th>\n",
       "      <th></th>\n",
       "      <th></th>\n",
       "    </tr>\n",
       "  </thead>\n",
       "  <tbody>\n",
       "    <tr>\n",
       "      <td>20 à 30</td>\n",
       "      <td>25.598628</td>\n",
       "      <td>10.087846</td>\n",
       "      <td>377.601201</td>\n",
       "      <td>52.807523</td>\n",
       "      <td>39.570938</td>\n",
       "      <td>324.793678</td>\n",
       "    </tr>\n",
       "    <tr>\n",
       "      <td>30 à 40</td>\n",
       "      <td>35.427919</td>\n",
       "      <td>10.355371</td>\n",
       "      <td>1028.831032</td>\n",
       "      <td>92.860520</td>\n",
       "      <td>43.272525</td>\n",
       "      <td>935.970513</td>\n",
       "    </tr>\n",
       "    <tr>\n",
       "      <td>40 à 50</td>\n",
       "      <td>45.181011</td>\n",
       "      <td>10.549048</td>\n",
       "      <td>1674.111986</td>\n",
       "      <td>117.363168</td>\n",
       "      <td>43.382787</td>\n",
       "      <td>1556.748819</td>\n",
       "    </tr>\n",
       "    <tr>\n",
       "      <td>50 à 60</td>\n",
       "      <td>55.000727</td>\n",
       "      <td>9.936289</td>\n",
       "      <td>1753.673450</td>\n",
       "      <td>111.335514</td>\n",
       "      <td>42.363857</td>\n",
       "      <td>1642.337936</td>\n",
       "    </tr>\n",
       "    <tr>\n",
       "      <td>inf 20</td>\n",
       "      <td>18.756432</td>\n",
       "      <td>8.557676</td>\n",
       "      <td>94.343568</td>\n",
       "      <td>40.339834</td>\n",
       "      <td>28.565145</td>\n",
       "      <td>54.003734</td>\n",
       "    </tr>\n",
       "    <tr>\n",
       "      <td>sup 60</td>\n",
       "      <td>67.242281</td>\n",
       "      <td>9.475986</td>\n",
       "      <td>1740.178816</td>\n",
       "      <td>103.662093</td>\n",
       "      <td>33.120497</td>\n",
       "      <td>1636.516724</td>\n",
       "    </tr>\n",
       "  </tbody>\n",
       "</table>\n",
       "</div>"
      ],
      "text/plain": [
       "               age  education.num  capital.gain  capital.loss  hours.per.week  \\\n",
       "age1                                                                            \n",
       "20 à 30  25.598628      10.087846    377.601201     52.807523       39.570938   \n",
       "30 à 40  35.427919      10.355371   1028.831032     92.860520       43.272525   \n",
       "40 à 50  45.181011      10.549048   1674.111986    117.363168       43.382787   \n",
       "50 à 60  55.000727       9.936289   1753.673450    111.335514       42.363857   \n",
       "inf 20   18.756432       8.557676     94.343568     40.339834       28.565145   \n",
       "sup 60   67.242281       9.475986   1740.178816    103.662093       33.120497   \n",
       "\n",
       "         capital.total  \n",
       "age1                    \n",
       "20 à 30     324.793678  \n",
       "30 à 40     935.970513  \n",
       "40 à 50    1556.748819  \n",
       "50 à 60    1642.337936  \n",
       "inf 20       54.003734  \n",
       "sup 60     1636.516724  "
      ]
     },
     "execution_count": 4,
     "metadata": {},
     "output_type": "execute_result"
    }
   ],
   "source": [
    "adult.groupby(by = 'age1').mean()"
   ]
  },
  {
   "cell_type": "markdown",
   "metadata": {},
   "source": [
    "Pour les nombres d’éducation moyen, âge de 20-50 ont plus de 10 ; Parmi eux, âge de 40-50 ont le niveau d’éducation le plus élevé. On peut déduire que des gens qui ont moins que 40 sont souvent ceux qui ne sont pas encore fini leurs études entières ; des gens qui ont plus que 50 sont souvent ceux qui n’ont pas encore accepté le niveau d’éducation élevé à ce moment là.\n",
    "\n",
    "Pour le capital total moyen, âge supérieur à 30 ont souvent de capital total plus que 1000, et on voit que avec l’augmentation de l’âge, on a de plus en plus de capital total, jusqu’à 60. Ainsi on peut déduire que quand l’âge croît, on obtient plus de l’expérience par le travail, on a la chance plus grande d’obtenir le bénéfice, donc on a plus de capital total, cette tendance reste jusqu’à 60 ans, car on vieillit et peut pas réfléchir aussi clair que les plus jeunes.\n",
    "\n",
    "Pour les heures par semaine moyennes, on a l’âge de 30-60 qui travaillent plus que 40 heures par semaine, et aussi parmi eux, l’âge de 40-50 travaillent le plus longtemps par semaine.\n",
    "\n",
    "A travers ces deux tables, c’est pas difficile que on déduit des gens qui ont 40-50 ans a plus grande possibilité de gagner plus de 50K dollars, car ils ont capital total le plus grand, les heures par semaine les plus grandes et le niveau d’éducation plus grand, conformément à la figure précédente qu’on a étudié dans la séance 3 :\n"
   ]
  },
  {
   "cell_type": "code",
   "execution_count": 6,
   "metadata": {},
   "outputs": [
    {
     "data": {
      "text/html": [
       "<div>\n",
       "<style scoped>\n",
       "    .dataframe tbody tr th:only-of-type {\n",
       "        vertical-align: middle;\n",
       "    }\n",
       "\n",
       "    .dataframe tbody tr th {\n",
       "        vertical-align: top;\n",
       "    }\n",
       "\n",
       "    .dataframe thead th {\n",
       "        text-align: right;\n",
       "    }\n",
       "</style>\n",
       "<table border=\"1\" class=\"dataframe\">\n",
       "  <thead>\n",
       "    <tr style=\"text-align: right;\">\n",
       "      <th></th>\n",
       "      <th></th>\n",
       "      <th>sex</th>\n",
       "    </tr>\n",
       "    <tr>\n",
       "      <th>income</th>\n",
       "      <th>education</th>\n",
       "      <th></th>\n",
       "    </tr>\n",
       "  </thead>\n",
       "  <tbody>\n",
       "    <tr>\n",
       "      <td rowspan=\"8\" valign=\"top\">&lt;=50K</td>\n",
       "      <td>Associate</td>\n",
       "      <td>1823</td>\n",
       "    </tr>\n",
       "    <tr>\n",
       "      <td>Bachelors</td>\n",
       "      <td>3134</td>\n",
       "    </tr>\n",
       "    <tr>\n",
       "      <td>Doctorate</td>\n",
       "      <td>107</td>\n",
       "    </tr>\n",
       "    <tr>\n",
       "      <td>Dropout</td>\n",
       "      <td>4009</td>\n",
       "    </tr>\n",
       "    <tr>\n",
       "      <td>HS-Graduate</td>\n",
       "      <td>5904</td>\n",
       "    </tr>\n",
       "    <tr>\n",
       "      <td>HS-grad</td>\n",
       "      <td>8826</td>\n",
       "    </tr>\n",
       "    <tr>\n",
       "      <td>Masters</td>\n",
       "      <td>764</td>\n",
       "    </tr>\n",
       "    <tr>\n",
       "      <td>Professor</td>\n",
       "      <td>153</td>\n",
       "    </tr>\n",
       "    <tr>\n",
       "      <td rowspan=\"8\" valign=\"top\">&gt;50K</td>\n",
       "      <td>Associate</td>\n",
       "      <td>626</td>\n",
       "    </tr>\n",
       "    <tr>\n",
       "      <td>Bachelors</td>\n",
       "      <td>2221</td>\n",
       "    </tr>\n",
       "    <tr>\n",
       "      <td>Doctorate</td>\n",
       "      <td>306</td>\n",
       "    </tr>\n",
       "    <tr>\n",
       "      <td>Dropout</td>\n",
       "      <td>244</td>\n",
       "    </tr>\n",
       "    <tr>\n",
       "      <td>HS-Graduate</td>\n",
       "      <td>1387</td>\n",
       "    </tr>\n",
       "    <tr>\n",
       "      <td>HS-grad</td>\n",
       "      <td>1675</td>\n",
       "    </tr>\n",
       "    <tr>\n",
       "      <td>Masters</td>\n",
       "      <td>959</td>\n",
       "    </tr>\n",
       "    <tr>\n",
       "      <td>Professor</td>\n",
       "      <td>423</td>\n",
       "    </tr>\n",
       "  </tbody>\n",
       "</table>\n",
       "</div>"
      ],
      "text/plain": [
       "                     sex\n",
       "income education        \n",
       "<=50K  Associate    1823\n",
       "       Bachelors    3134\n",
       "       Doctorate     107\n",
       "       Dropout      4009\n",
       "       HS-Graduate  5904\n",
       "       HS-grad      8826\n",
       "       Masters       764\n",
       "       Professor     153\n",
       ">50K   Associate     626\n",
       "       Bachelors    2221\n",
       "       Doctorate     306\n",
       "       Dropout       244\n",
       "       HS-Graduate  1387\n",
       "       HS-grad      1675\n",
       "       Masters       959\n",
       "       Professor     423"
      ]
     },
     "execution_count": 6,
     "metadata": {},
     "output_type": "execute_result"
    }
   ],
   "source": [
    "adult.loc[:,['income','education','sex']].groupby(by = ['income','education']).count()"
   ]
  },
  {
   "cell_type": "code",
   "execution_count": 9,
   "metadata": {},
   "outputs": [
    {
     "name": "stderr",
     "output_type": "stream",
     "text": [
      "C:\\Users\\lenovo\\Anaconda3\\lib\\site-packages\\seaborn\\categorical.py:3666: UserWarning: The `factorplot` function has been renamed to `catplot`. The original name will be removed in a future release. Please update your code. Note that the default `kind` in `factorplot` (`'point'`) has changed `'strip'` in `catplot`.\n",
      "  warnings.warn(msg)\n"
     ]
    },
    {
     "data": {
      "text/plain": [
       "<seaborn.axisgrid.FacetGrid at 0x294724d7808>"
      ]
     },
     "execution_count": 9,
     "metadata": {},
     "output_type": "execute_result"
    },
    {
     "data": {
      "image/png": "[encoded data removed]",
      "text/plain": [
       "<Figure size 425.25x360 with 1 Axes>"
      ]
     },
     "metadata": {},
     "output_type": "display_data"
    }
   ],
   "source": [
    "sns.factorplot('age1', data = adult, kind = 'count', hue = 'income')"
   ]
  },
  {
   "cell_type": "markdown",
   "metadata": {},
   "source": [
    "Dans cette graphique, on voit que l’âge de 50-60 est la deuxième qui peut gagner probablement plus de 50K dollars, mais selon la table précédente, les nombres d’éducation et les heures par semaines de ceux qui ont 50-60 ans sont moins que ceux qui ont 30-40 ans (qui ont la troisième grande possibilité de gagner plus de 50K dollars), mais quand même plus grand que les autres âges pour les heures par semaine, et moins que 20-30 ans aussi pour le niveau d’éducation. Donc on a une conclusion maintenant : Le facteur le plus crucial pour le salaire est le capital total, et puis les heures par semaine, ensuite le niveau d’éducation. (Si on juste regarde ces variables numériques)"
   ]
  },
  {
   "cell_type": "markdown",
   "metadata": {},
   "source": [
    "Maintenant, on découpe les données en jeu de test/apprentissage/validation. On d’abord coupe les données en jeu d’apprentissage et jeu de test, et après c’est le découpage du jeu de test en jeu de validation et jeu de test (on va utiliser le methode 'train_test_split' du package sklearn.model_selection et le package 'sklearn.datasets'):"
   ]
  },
  {
   "cell_type": "markdown",
   "metadata": {},
   "source": [
    "Maintenant, nous voulons faire la découpage entre les variables explicatives et la variable expliquée. \n",
    "\n",
    "Sur ce modèle, nous voulons étudier les influences de la revenue, donc ici la variable expliquée est 'income' et les autres variables \n",
    "\n",
    "sont les variables expliquées.\n",
    "Il faut faire la découpage dans le jeu d'apprentissage, la découpage dans le jeu de test, la découpage dans le jeu de validation."
   ]
  },
  {
   "cell_type": "markdown",
   "metadata": {},
   "source": [
    "\n",
    "Séparer les variables explicatives (X) de la variable à expliquer (Y)\n",
    "\n",
    "Pour le Y ne prendre que l'attribut \"income\".\n"
   ]
  },
  {
   "cell_type": "code",
   "execution_count": 3,
   "metadata": {},
   "outputs": [],
   "source": [
    "from sklearn.model_selection import train_test_split \n",
    "import sklearn.datasets as sk_d\n",
    "import sklearn.model_selection as sk_ms\n",
    "import pandas as pd\n",
    "adult = pd.read_csv(\"adult1.csv\")"
   ]
  },
  {
   "cell_type": "code",
   "execution_count": 4,
   "metadata": {
    "scrolled": true
   },
   "outputs": [],
   "source": [
    "adult = adult.copy() \n",
    "adult['age1'] = adult['age1'].factorize()[0]\n",
    "adult['workclass'] = adult['workclass'].factorize()[0]  \n",
    "adult['education'] = adult['education'].factorize()[0]  \n",
    "adult['marital.status'] = adult['marital.status'].factorize()[0]  \n",
    "adult['occupation'] = adult['occupation'].factorize()[0]  \n",
    "adult['relationship'] = adult['relationship'].factorize()[0]  \n",
    "adult['race'] = adult['race'].factorize()[0]  \n",
    "adult['sex'] = adult['sex'].factorize()[0]  \n",
    "adult['native.country'] = adult['native.country'].factorize()[0]  \n",
    "adult['income'] = adult['income'].factorize()[0] "
   ]
  },
  {
   "cell_type": "markdown",
   "metadata": {},
   "source": [
    "### la découpage des données "
   ]
  },
  {
   "cell_type": "code",
   "execution_count": 5,
   "metadata": {},
   "outputs": [],
   "source": [
    "y_data=adult['income']  \n",
    "x_data=adult.drop(['income'],axis=1)"
   ]
  },
  {
   "cell_type": "markdown",
   "metadata": {},
   "source": [
    "Nous utilisons le train_test_split() de sk.learn pour découper les données.\n",
    "\n",
    "L'ensemble de données est divisé en ensemble d'apprentissage et ensemble de test. L'ensemble de test occupe 20% de l'ensemble de données complet et l'ensemble d'apprentissage occupe 80% de l'ensemble de données.\n",
    "\n",
    "Et en fonction de la proportion de chaque catégorie dans la variable dépendante, les variables de l'ensemble d'apprentissage x_train, y_train et les variables de l'ensemble de test x_test, y_test sont obtenues.\n"
   ]
  },
  {
   "cell_type": "code",
   "execution_count": 6,
   "metadata": {},
   "outputs": [],
   "source": [
    "x_val,x_test,y_val,y_test = train_test_split(  \n",
    "    x_data,  \n",
    "    y_data,  \n",
    "    test_size=0.5,  \n",
    "    random_state=1,  \n",
    "    stratify=y_data)  "
   ]
  },
  {
   "cell_type": "markdown",
   "metadata": {},
   "source": [
    "## Passer les variables catégorielles à des données binaires "
   ]
  },
  {
   "cell_type": "code",
   "execution_count": 7,
   "metadata": {},
   "outputs": [
    {
     "data": {
      "text/html": [
       "<div>\n",
       "<style scoped>\n",
       "    .dataframe tbody tr th:only-of-type {\n",
       "        vertical-align: middle;\n",
       "    }\n",
       "\n",
       "    .dataframe tbody tr th {\n",
       "        vertical-align: top;\n",
       "    }\n",
       "\n",
       "    .dataframe thead th {\n",
       "        text-align: right;\n",
       "    }\n",
       "</style>\n",
       "<table border=\"1\" class=\"dataframe\">\n",
       "  <thead>\n",
       "    <tr style=\"text-align: right;\">\n",
       "      <th></th>\n",
       "      <th>-1</th>\n",
       "      <th>0</th>\n",
       "      <th>1</th>\n",
       "      <th>2</th>\n",
       "      <th>3</th>\n",
       "      <th>4</th>\n",
       "      <th>5</th>\n",
       "    </tr>\n",
       "  </thead>\n",
       "  <tbody>\n",
       "    <tr>\n",
       "      <th>0</th>\n",
       "      <td>0</td>\n",
       "      <td>1</td>\n",
       "      <td>0</td>\n",
       "      <td>0</td>\n",
       "      <td>0</td>\n",
       "      <td>0</td>\n",
       "      <td>0</td>\n",
       "    </tr>\n",
       "    <tr>\n",
       "      <th>1</th>\n",
       "      <td>0</td>\n",
       "      <td>1</td>\n",
       "      <td>0</td>\n",
       "      <td>0</td>\n",
       "      <td>0</td>\n",
       "      <td>0</td>\n",
       "      <td>0</td>\n",
       "    </tr>\n",
       "    <tr>\n",
       "      <th>2</th>\n",
       "      <td>0</td>\n",
       "      <td>0</td>\n",
       "      <td>1</td>\n",
       "      <td>0</td>\n",
       "      <td>0</td>\n",
       "      <td>0</td>\n",
       "      <td>0</td>\n",
       "    </tr>\n",
       "    <tr>\n",
       "      <th>3</th>\n",
       "      <td>0</td>\n",
       "      <td>1</td>\n",
       "      <td>0</td>\n",
       "      <td>0</td>\n",
       "      <td>0</td>\n",
       "      <td>0</td>\n",
       "      <td>0</td>\n",
       "    </tr>\n",
       "    <tr>\n",
       "      <th>4</th>\n",
       "      <td>0</td>\n",
       "      <td>1</td>\n",
       "      <td>0</td>\n",
       "      <td>0</td>\n",
       "      <td>0</td>\n",
       "      <td>0</td>\n",
       "      <td>0</td>\n",
       "    </tr>\n",
       "    <tr>\n",
       "      <th>...</th>\n",
       "      <td>...</td>\n",
       "      <td>...</td>\n",
       "      <td>...</td>\n",
       "      <td>...</td>\n",
       "      <td>...</td>\n",
       "      <td>...</td>\n",
       "      <td>...</td>\n",
       "    </tr>\n",
       "    <tr>\n",
       "      <th>32556</th>\n",
       "      <td>0</td>\n",
       "      <td>0</td>\n",
       "      <td>0</td>\n",
       "      <td>0</td>\n",
       "      <td>1</td>\n",
       "      <td>0</td>\n",
       "      <td>0</td>\n",
       "    </tr>\n",
       "    <tr>\n",
       "      <th>32557</th>\n",
       "      <td>0</td>\n",
       "      <td>0</td>\n",
       "      <td>1</td>\n",
       "      <td>0</td>\n",
       "      <td>0</td>\n",
       "      <td>0</td>\n",
       "      <td>0</td>\n",
       "    </tr>\n",
       "    <tr>\n",
       "      <th>32558</th>\n",
       "      <td>1</td>\n",
       "      <td>0</td>\n",
       "      <td>0</td>\n",
       "      <td>0</td>\n",
       "      <td>0</td>\n",
       "      <td>0</td>\n",
       "      <td>0</td>\n",
       "    </tr>\n",
       "    <tr>\n",
       "      <th>32559</th>\n",
       "      <td>0</td>\n",
       "      <td>1</td>\n",
       "      <td>0</td>\n",
       "      <td>0</td>\n",
       "      <td>0</td>\n",
       "      <td>0</td>\n",
       "      <td>0</td>\n",
       "    </tr>\n",
       "    <tr>\n",
       "      <th>32560</th>\n",
       "      <td>1</td>\n",
       "      <td>0</td>\n",
       "      <td>0</td>\n",
       "      <td>0</td>\n",
       "      <td>0</td>\n",
       "      <td>0</td>\n",
       "      <td>0</td>\n",
       "    </tr>\n",
       "  </tbody>\n",
       "</table>\n",
       "<p>32561 rows × 7 columns</p>\n",
       "</div>"
      ],
      "text/plain": [
       "       -1   0   1   2   3   4   5\n",
       "0       0   1   0   0   0   0   0\n",
       "1       0   1   0   0   0   0   0\n",
       "2       0   0   1   0   0   0   0\n",
       "3       0   1   0   0   0   0   0\n",
       "4       0   1   0   0   0   0   0\n",
       "...    ..  ..  ..  ..  ..  ..  ..\n",
       "32556   0   0   0   0   1   0   0\n",
       "32557   0   0   1   0   0   0   0\n",
       "32558   1   0   0   0   0   0   0\n",
       "32559   0   1   0   0   0   0   0\n",
       "32560   1   0   0   0   0   0   0\n",
       "\n",
       "[32561 rows x 7 columns]"
      ]
     },
     "execution_count": 7,
     "metadata": {},
     "output_type": "execute_result"
    }
   ],
   "source": [
    "pd.get_dummies(adult.loc[:,'occupation'])\n"
   ]
  },
  {
   "cell_type": "code",
   "execution_count": 8,
   "metadata": {},
   "outputs": [
    {
     "data": {
      "text/html": [
       "<div>\n",
       "<style scoped>\n",
       "    .dataframe tbody tr th:only-of-type {\n",
       "        vertical-align: middle;\n",
       "    }\n",
       "\n",
       "    .dataframe tbody tr th {\n",
       "        vertical-align: top;\n",
       "    }\n",
       "\n",
       "    .dataframe thead th {\n",
       "        text-align: right;\n",
       "    }\n",
       "</style>\n",
       "<table border=\"1\" class=\"dataframe\">\n",
       "  <thead>\n",
       "    <tr style=\"text-align: right;\">\n",
       "      <th></th>\n",
       "      <th>0</th>\n",
       "      <th>1</th>\n",
       "      <th>2</th>\n",
       "      <th>3</th>\n",
       "      <th>4</th>\n",
       "      <th>5</th>\n",
       "      <th>6</th>\n",
       "      <th>7</th>\n",
       "    </tr>\n",
       "  </thead>\n",
       "  <tbody>\n",
       "    <tr>\n",
       "      <th>0</th>\n",
       "      <td>1</td>\n",
       "      <td>0</td>\n",
       "      <td>0</td>\n",
       "      <td>0</td>\n",
       "      <td>0</td>\n",
       "      <td>0</td>\n",
       "      <td>0</td>\n",
       "      <td>0</td>\n",
       "    </tr>\n",
       "    <tr>\n",
       "      <th>1</th>\n",
       "      <td>0</td>\n",
       "      <td>1</td>\n",
       "      <td>0</td>\n",
       "      <td>0</td>\n",
       "      <td>0</td>\n",
       "      <td>0</td>\n",
       "      <td>0</td>\n",
       "      <td>0</td>\n",
       "    </tr>\n",
       "    <tr>\n",
       "      <th>2</th>\n",
       "      <td>0</td>\n",
       "      <td>1</td>\n",
       "      <td>0</td>\n",
       "      <td>0</td>\n",
       "      <td>0</td>\n",
       "      <td>0</td>\n",
       "      <td>0</td>\n",
       "      <td>0</td>\n",
       "    </tr>\n",
       "    <tr>\n",
       "      <th>3</th>\n",
       "      <td>0</td>\n",
       "      <td>0</td>\n",
       "      <td>1</td>\n",
       "      <td>0</td>\n",
       "      <td>0</td>\n",
       "      <td>0</td>\n",
       "      <td>0</td>\n",
       "      <td>0</td>\n",
       "    </tr>\n",
       "    <tr>\n",
       "      <th>4</th>\n",
       "      <td>0</td>\n",
       "      <td>0</td>\n",
       "      <td>0</td>\n",
       "      <td>1</td>\n",
       "      <td>0</td>\n",
       "      <td>0</td>\n",
       "      <td>0</td>\n",
       "      <td>0</td>\n",
       "    </tr>\n",
       "    <tr>\n",
       "      <th>...</th>\n",
       "      <td>...</td>\n",
       "      <td>...</td>\n",
       "      <td>...</td>\n",
       "      <td>...</td>\n",
       "      <td>...</td>\n",
       "      <td>...</td>\n",
       "      <td>...</td>\n",
       "      <td>...</td>\n",
       "    </tr>\n",
       "    <tr>\n",
       "      <th>32556</th>\n",
       "      <td>0</td>\n",
       "      <td>0</td>\n",
       "      <td>1</td>\n",
       "      <td>0</td>\n",
       "      <td>0</td>\n",
       "      <td>0</td>\n",
       "      <td>0</td>\n",
       "      <td>0</td>\n",
       "    </tr>\n",
       "    <tr>\n",
       "      <th>32557</th>\n",
       "      <td>0</td>\n",
       "      <td>0</td>\n",
       "      <td>0</td>\n",
       "      <td>0</td>\n",
       "      <td>0</td>\n",
       "      <td>0</td>\n",
       "      <td>0</td>\n",
       "      <td>1</td>\n",
       "    </tr>\n",
       "    <tr>\n",
       "      <th>32558</th>\n",
       "      <td>0</td>\n",
       "      <td>0</td>\n",
       "      <td>1</td>\n",
       "      <td>0</td>\n",
       "      <td>0</td>\n",
       "      <td>0</td>\n",
       "      <td>0</td>\n",
       "      <td>0</td>\n",
       "    </tr>\n",
       "    <tr>\n",
       "      <th>32559</th>\n",
       "      <td>0</td>\n",
       "      <td>1</td>\n",
       "      <td>0</td>\n",
       "      <td>0</td>\n",
       "      <td>0</td>\n",
       "      <td>0</td>\n",
       "      <td>0</td>\n",
       "      <td>0</td>\n",
       "    </tr>\n",
       "    <tr>\n",
       "      <th>32560</th>\n",
       "      <td>0</td>\n",
       "      <td>1</td>\n",
       "      <td>0</td>\n",
       "      <td>0</td>\n",
       "      <td>0</td>\n",
       "      <td>0</td>\n",
       "      <td>0</td>\n",
       "      <td>0</td>\n",
       "    </tr>\n",
       "  </tbody>\n",
       "</table>\n",
       "<p>32561 rows × 8 columns</p>\n",
       "</div>"
      ],
      "text/plain": [
       "       0  1  2  3  4  5  6  7\n",
       "0      1  0  0  0  0  0  0  0\n",
       "1      0  1  0  0  0  0  0  0\n",
       "2      0  1  0  0  0  0  0  0\n",
       "3      0  0  1  0  0  0  0  0\n",
       "4      0  0  0  1  0  0  0  0\n",
       "...   .. .. .. .. .. .. .. ..\n",
       "32556  0  0  1  0  0  0  0  0\n",
       "32557  0  0  0  0  0  0  0  1\n",
       "32558  0  0  1  0  0  0  0  0\n",
       "32559  0  1  0  0  0  0  0  0\n",
       "32560  0  1  0  0  0  0  0  0\n",
       "\n",
       "[32561 rows x 8 columns]"
      ]
     },
     "execution_count": 8,
     "metadata": {},
     "output_type": "execute_result"
    }
   ],
   "source": [
    "pd.get_dummies(adult.loc[:,'education'])"
   ]
  },
  {
   "cell_type": "code",
   "execution_count": 9,
   "metadata": {},
   "outputs": [
    {
     "data": {
      "text/html": [
       "<div>\n",
       "<style scoped>\n",
       "    .dataframe tbody tr th:only-of-type {\n",
       "        vertical-align: middle;\n",
       "    }\n",
       "\n",
       "    .dataframe tbody tr th {\n",
       "        vertical-align: top;\n",
       "    }\n",
       "\n",
       "    .dataframe thead th {\n",
       "        text-align: right;\n",
       "    }\n",
       "</style>\n",
       "<table border=\"1\" class=\"dataframe\">\n",
       "  <thead>\n",
       "    <tr style=\"text-align: right;\">\n",
       "      <th></th>\n",
       "      <th>0</th>\n",
       "      <th>1</th>\n",
       "      <th>2</th>\n",
       "      <th>3</th>\n",
       "      <th>4</th>\n",
       "      <th>5</th>\n",
       "      <th>6</th>\n",
       "    </tr>\n",
       "  </thead>\n",
       "  <tbody>\n",
       "    <tr>\n",
       "      <th>0</th>\n",
       "      <td>1</td>\n",
       "      <td>0</td>\n",
       "      <td>0</td>\n",
       "      <td>0</td>\n",
       "      <td>0</td>\n",
       "      <td>0</td>\n",
       "      <td>0</td>\n",
       "    </tr>\n",
       "    <tr>\n",
       "      <th>1</th>\n",
       "      <td>1</td>\n",
       "      <td>0</td>\n",
       "      <td>0</td>\n",
       "      <td>0</td>\n",
       "      <td>0</td>\n",
       "      <td>0</td>\n",
       "      <td>0</td>\n",
       "    </tr>\n",
       "    <tr>\n",
       "      <th>2</th>\n",
       "      <td>1</td>\n",
       "      <td>0</td>\n",
       "      <td>0</td>\n",
       "      <td>0</td>\n",
       "      <td>0</td>\n",
       "      <td>0</td>\n",
       "      <td>0</td>\n",
       "    </tr>\n",
       "    <tr>\n",
       "      <th>3</th>\n",
       "      <td>1</td>\n",
       "      <td>0</td>\n",
       "      <td>0</td>\n",
       "      <td>0</td>\n",
       "      <td>0</td>\n",
       "      <td>0</td>\n",
       "      <td>0</td>\n",
       "    </tr>\n",
       "    <tr>\n",
       "      <th>4</th>\n",
       "      <td>0</td>\n",
       "      <td>1</td>\n",
       "      <td>0</td>\n",
       "      <td>0</td>\n",
       "      <td>0</td>\n",
       "      <td>0</td>\n",
       "      <td>0</td>\n",
       "    </tr>\n",
       "    <tr>\n",
       "      <th>...</th>\n",
       "      <td>...</td>\n",
       "      <td>...</td>\n",
       "      <td>...</td>\n",
       "      <td>...</td>\n",
       "      <td>...</td>\n",
       "      <td>...</td>\n",
       "      <td>...</td>\n",
       "    </tr>\n",
       "    <tr>\n",
       "      <th>32556</th>\n",
       "      <td>0</td>\n",
       "      <td>0</td>\n",
       "      <td>0</td>\n",
       "      <td>1</td>\n",
       "      <td>0</td>\n",
       "      <td>0</td>\n",
       "      <td>0</td>\n",
       "    </tr>\n",
       "    <tr>\n",
       "      <th>32557</th>\n",
       "      <td>0</td>\n",
       "      <td>1</td>\n",
       "      <td>0</td>\n",
       "      <td>0</td>\n",
       "      <td>0</td>\n",
       "      <td>0</td>\n",
       "      <td>0</td>\n",
       "    </tr>\n",
       "    <tr>\n",
       "      <th>32558</th>\n",
       "      <td>0</td>\n",
       "      <td>0</td>\n",
       "      <td>0</td>\n",
       "      <td>0</td>\n",
       "      <td>1</td>\n",
       "      <td>0</td>\n",
       "      <td>0</td>\n",
       "    </tr>\n",
       "    <tr>\n",
       "      <th>32559</th>\n",
       "      <td>0</td>\n",
       "      <td>0</td>\n",
       "      <td>0</td>\n",
       "      <td>0</td>\n",
       "      <td>1</td>\n",
       "      <td>0</td>\n",
       "      <td>0</td>\n",
       "    </tr>\n",
       "    <tr>\n",
       "      <th>32560</th>\n",
       "      <td>0</td>\n",
       "      <td>0</td>\n",
       "      <td>0</td>\n",
       "      <td>0</td>\n",
       "      <td>1</td>\n",
       "      <td>0</td>\n",
       "      <td>0</td>\n",
       "    </tr>\n",
       "  </tbody>\n",
       "</table>\n",
       "<p>32561 rows × 7 columns</p>\n",
       "</div>"
      ],
      "text/plain": [
       "       0  1  2  3  4  5  6\n",
       "0      1  0  0  0  0  0  0\n",
       "1      1  0  0  0  0  0  0\n",
       "2      1  0  0  0  0  0  0\n",
       "3      1  0  0  0  0  0  0\n",
       "4      0  1  0  0  0  0  0\n",
       "...   .. .. .. .. .. .. ..\n",
       "32556  0  0  0  1  0  0  0\n",
       "32557  0  1  0  0  0  0  0\n",
       "32558  0  0  0  0  1  0  0\n",
       "32559  0  0  0  0  1  0  0\n",
       "32560  0  0  0  0  1  0  0\n",
       "\n",
       "[32561 rows x 7 columns]"
      ]
     },
     "execution_count": 9,
     "metadata": {},
     "output_type": "execute_result"
    }
   ],
   "source": [
    "pd.get_dummies(adult.loc[:,'marital.status'])"
   ]
  },
  {
   "cell_type": "code",
   "execution_count": 10,
   "metadata": {},
   "outputs": [
    {
     "data": {
      "text/html": [
       "<div>\n",
       "<style scoped>\n",
       "    .dataframe tbody tr th:only-of-type {\n",
       "        vertical-align: middle;\n",
       "    }\n",
       "\n",
       "    .dataframe tbody tr th {\n",
       "        vertical-align: top;\n",
       "    }\n",
       "\n",
       "    .dataframe thead th {\n",
       "        text-align: right;\n",
       "    }\n",
       "</style>\n",
       "<table border=\"1\" class=\"dataframe\">\n",
       "  <thead>\n",
       "    <tr style=\"text-align: right;\">\n",
       "      <th></th>\n",
       "      <th>0</th>\n",
       "      <th>1</th>\n",
       "      <th>2</th>\n",
       "      <th>3</th>\n",
       "      <th>4</th>\n",
       "      <th>5</th>\n",
       "    </tr>\n",
       "  </thead>\n",
       "  <tbody>\n",
       "    <tr>\n",
       "      <th>0</th>\n",
       "      <td>1</td>\n",
       "      <td>0</td>\n",
       "      <td>0</td>\n",
       "      <td>0</td>\n",
       "      <td>0</td>\n",
       "      <td>0</td>\n",
       "    </tr>\n",
       "    <tr>\n",
       "      <th>1</th>\n",
       "      <td>1</td>\n",
       "      <td>0</td>\n",
       "      <td>0</td>\n",
       "      <td>0</td>\n",
       "      <td>0</td>\n",
       "      <td>0</td>\n",
       "    </tr>\n",
       "    <tr>\n",
       "      <th>2</th>\n",
       "      <td>1</td>\n",
       "      <td>0</td>\n",
       "      <td>0</td>\n",
       "      <td>0</td>\n",
       "      <td>0</td>\n",
       "      <td>0</td>\n",
       "    </tr>\n",
       "    <tr>\n",
       "      <th>3</th>\n",
       "      <td>1</td>\n",
       "      <td>0</td>\n",
       "      <td>0</td>\n",
       "      <td>0</td>\n",
       "      <td>0</td>\n",
       "      <td>0</td>\n",
       "    </tr>\n",
       "    <tr>\n",
       "      <th>4</th>\n",
       "      <td>0</td>\n",
       "      <td>1</td>\n",
       "      <td>0</td>\n",
       "      <td>0</td>\n",
       "      <td>0</td>\n",
       "      <td>0</td>\n",
       "    </tr>\n",
       "    <tr>\n",
       "      <th>...</th>\n",
       "      <td>...</td>\n",
       "      <td>...</td>\n",
       "      <td>...</td>\n",
       "      <td>...</td>\n",
       "      <td>...</td>\n",
       "      <td>...</td>\n",
       "    </tr>\n",
       "    <tr>\n",
       "      <th>32556</th>\n",
       "      <td>0</td>\n",
       "      <td>0</td>\n",
       "      <td>0</td>\n",
       "      <td>0</td>\n",
       "      <td>1</td>\n",
       "      <td>0</td>\n",
       "    </tr>\n",
       "    <tr>\n",
       "      <th>32557</th>\n",
       "      <td>0</td>\n",
       "      <td>0</td>\n",
       "      <td>1</td>\n",
       "      <td>0</td>\n",
       "      <td>0</td>\n",
       "      <td>0</td>\n",
       "    </tr>\n",
       "    <tr>\n",
       "      <th>32558</th>\n",
       "      <td>0</td>\n",
       "      <td>0</td>\n",
       "      <td>1</td>\n",
       "      <td>0</td>\n",
       "      <td>0</td>\n",
       "      <td>0</td>\n",
       "    </tr>\n",
       "    <tr>\n",
       "      <th>32559</th>\n",
       "      <td>0</td>\n",
       "      <td>1</td>\n",
       "      <td>0</td>\n",
       "      <td>0</td>\n",
       "      <td>0</td>\n",
       "      <td>0</td>\n",
       "    </tr>\n",
       "    <tr>\n",
       "      <th>32560</th>\n",
       "      <td>0</td>\n",
       "      <td>1</td>\n",
       "      <td>0</td>\n",
       "      <td>0</td>\n",
       "      <td>0</td>\n",
       "      <td>0</td>\n",
       "    </tr>\n",
       "  </tbody>\n",
       "</table>\n",
       "<p>32561 rows × 6 columns</p>\n",
       "</div>"
      ],
      "text/plain": [
       "       0  1  2  3  4  5\n",
       "0      1  0  0  0  0  0\n",
       "1      1  0  0  0  0  0\n",
       "2      1  0  0  0  0  0\n",
       "3      1  0  0  0  0  0\n",
       "4      0  1  0  0  0  0\n",
       "...   .. .. .. .. .. ..\n",
       "32556  0  0  0  0  1  0\n",
       "32557  0  0  1  0  0  0\n",
       "32558  0  0  1  0  0  0\n",
       "32559  0  1  0  0  0  0\n",
       "32560  0  1  0  0  0  0\n",
       "\n",
       "[32561 rows x 6 columns]"
      ]
     },
     "execution_count": 10,
     "metadata": {},
     "output_type": "execute_result"
    }
   ],
   "source": [
    "pd.get_dummies(adult.loc[:,'relationship'])"
   ]
  },
  {
   "cell_type": "code",
   "execution_count": 11,
   "metadata": {},
   "outputs": [
    {
     "data": {
      "text/html": [
       "<div>\n",
       "<style scoped>\n",
       "    .dataframe tbody tr th:only-of-type {\n",
       "        vertical-align: middle;\n",
       "    }\n",
       "\n",
       "    .dataframe tbody tr th {\n",
       "        vertical-align: top;\n",
       "    }\n",
       "\n",
       "    .dataframe thead th {\n",
       "        text-align: right;\n",
       "    }\n",
       "</style>\n",
       "<table border=\"1\" class=\"dataframe\">\n",
       "  <thead>\n",
       "    <tr style=\"text-align: right;\">\n",
       "      <th></th>\n",
       "      <th>0</th>\n",
       "      <th>1</th>\n",
       "      <th>2</th>\n",
       "      <th>3</th>\n",
       "      <th>4</th>\n",
       "    </tr>\n",
       "  </thead>\n",
       "  <tbody>\n",
       "    <tr>\n",
       "      <th>0</th>\n",
       "      <td>1</td>\n",
       "      <td>0</td>\n",
       "      <td>0</td>\n",
       "      <td>0</td>\n",
       "      <td>0</td>\n",
       "    </tr>\n",
       "    <tr>\n",
       "      <th>1</th>\n",
       "      <td>0</td>\n",
       "      <td>1</td>\n",
       "      <td>0</td>\n",
       "      <td>0</td>\n",
       "      <td>0</td>\n",
       "    </tr>\n",
       "    <tr>\n",
       "      <th>2</th>\n",
       "      <td>1</td>\n",
       "      <td>0</td>\n",
       "      <td>0</td>\n",
       "      <td>0</td>\n",
       "      <td>0</td>\n",
       "    </tr>\n",
       "    <tr>\n",
       "      <th>3</th>\n",
       "      <td>1</td>\n",
       "      <td>0</td>\n",
       "      <td>0</td>\n",
       "      <td>0</td>\n",
       "      <td>0</td>\n",
       "    </tr>\n",
       "    <tr>\n",
       "      <th>4</th>\n",
       "      <td>1</td>\n",
       "      <td>0</td>\n",
       "      <td>0</td>\n",
       "      <td>0</td>\n",
       "      <td>0</td>\n",
       "    </tr>\n",
       "    <tr>\n",
       "      <th>...</th>\n",
       "      <td>...</td>\n",
       "      <td>...</td>\n",
       "      <td>...</td>\n",
       "      <td>...</td>\n",
       "      <td>...</td>\n",
       "    </tr>\n",
       "    <tr>\n",
       "      <th>32556</th>\n",
       "      <td>1</td>\n",
       "      <td>0</td>\n",
       "      <td>0</td>\n",
       "      <td>0</td>\n",
       "      <td>0</td>\n",
       "    </tr>\n",
       "    <tr>\n",
       "      <th>32557</th>\n",
       "      <td>1</td>\n",
       "      <td>0</td>\n",
       "      <td>0</td>\n",
       "      <td>0</td>\n",
       "      <td>0</td>\n",
       "    </tr>\n",
       "    <tr>\n",
       "      <th>32558</th>\n",
       "      <td>0</td>\n",
       "      <td>0</td>\n",
       "      <td>1</td>\n",
       "      <td>0</td>\n",
       "      <td>0</td>\n",
       "    </tr>\n",
       "    <tr>\n",
       "      <th>32559</th>\n",
       "      <td>1</td>\n",
       "      <td>0</td>\n",
       "      <td>0</td>\n",
       "      <td>0</td>\n",
       "      <td>0</td>\n",
       "    </tr>\n",
       "    <tr>\n",
       "      <th>32560</th>\n",
       "      <td>1</td>\n",
       "      <td>0</td>\n",
       "      <td>0</td>\n",
       "      <td>0</td>\n",
       "      <td>0</td>\n",
       "    </tr>\n",
       "  </tbody>\n",
       "</table>\n",
       "<p>32561 rows × 5 columns</p>\n",
       "</div>"
      ],
      "text/plain": [
       "       0  1  2  3  4\n",
       "0      1  0  0  0  0\n",
       "1      0  1  0  0  0\n",
       "2      1  0  0  0  0\n",
       "3      1  0  0  0  0\n",
       "4      1  0  0  0  0\n",
       "...   .. .. .. .. ..\n",
       "32556  1  0  0  0  0\n",
       "32557  1  0  0  0  0\n",
       "32558  0  0  1  0  0\n",
       "32559  1  0  0  0  0\n",
       "32560  1  0  0  0  0\n",
       "\n",
       "[32561 rows x 5 columns]"
      ]
     },
     "execution_count": 11,
     "metadata": {},
     "output_type": "execute_result"
    }
   ],
   "source": [
    "pd.get_dummies(adult.loc[:,'race'])"
   ]
  },
  {
   "cell_type": "code",
   "execution_count": 12,
   "metadata": {},
   "outputs": [
    {
     "data": {
      "text/html": [
       "<div>\n",
       "<style scoped>\n",
       "    .dataframe tbody tr th:only-of-type {\n",
       "        vertical-align: middle;\n",
       "    }\n",
       "\n",
       "    .dataframe tbody tr th {\n",
       "        vertical-align: top;\n",
       "    }\n",
       "\n",
       "    .dataframe thead th {\n",
       "        text-align: right;\n",
       "    }\n",
       "</style>\n",
       "<table border=\"1\" class=\"dataframe\">\n",
       "  <thead>\n",
       "    <tr style=\"text-align: right;\">\n",
       "      <th></th>\n",
       "      <th>0</th>\n",
       "      <th>1</th>\n",
       "    </tr>\n",
       "  </thead>\n",
       "  <tbody>\n",
       "    <tr>\n",
       "      <th>0</th>\n",
       "      <td>1</td>\n",
       "      <td>0</td>\n",
       "    </tr>\n",
       "    <tr>\n",
       "      <th>1</th>\n",
       "      <td>1</td>\n",
       "      <td>0</td>\n",
       "    </tr>\n",
       "    <tr>\n",
       "      <th>2</th>\n",
       "      <td>1</td>\n",
       "      <td>0</td>\n",
       "    </tr>\n",
       "    <tr>\n",
       "      <th>3</th>\n",
       "      <td>1</td>\n",
       "      <td>0</td>\n",
       "    </tr>\n",
       "    <tr>\n",
       "      <th>4</th>\n",
       "      <td>1</td>\n",
       "      <td>0</td>\n",
       "    </tr>\n",
       "    <tr>\n",
       "      <th>...</th>\n",
       "      <td>...</td>\n",
       "      <td>...</td>\n",
       "    </tr>\n",
       "    <tr>\n",
       "      <th>32556</th>\n",
       "      <td>0</td>\n",
       "      <td>1</td>\n",
       "    </tr>\n",
       "    <tr>\n",
       "      <th>32557</th>\n",
       "      <td>0</td>\n",
       "      <td>1</td>\n",
       "    </tr>\n",
       "    <tr>\n",
       "      <th>32558</th>\n",
       "      <td>0</td>\n",
       "      <td>1</td>\n",
       "    </tr>\n",
       "    <tr>\n",
       "      <th>32559</th>\n",
       "      <td>0</td>\n",
       "      <td>1</td>\n",
       "    </tr>\n",
       "    <tr>\n",
       "      <th>32560</th>\n",
       "      <td>0</td>\n",
       "      <td>1</td>\n",
       "    </tr>\n",
       "  </tbody>\n",
       "</table>\n",
       "<p>32561 rows × 2 columns</p>\n",
       "</div>"
      ],
      "text/plain": [
       "       0  1\n",
       "0      1  0\n",
       "1      1  0\n",
       "2      1  0\n",
       "3      1  0\n",
       "4      1  0\n",
       "...   .. ..\n",
       "32556  0  1\n",
       "32557  0  1\n",
       "32558  0  1\n",
       "32559  0  1\n",
       "32560  0  1\n",
       "\n",
       "[32561 rows x 2 columns]"
      ]
     },
     "execution_count": 12,
     "metadata": {},
     "output_type": "execute_result"
    }
   ],
   "source": [
    "pd.get_dummies(adult.loc[:,'sex'])"
   ]
  },
  {
   "cell_type": "code",
   "execution_count": 13,
   "metadata": {},
   "outputs": [
    {
     "data": {
      "text/html": [
       "<div>\n",
       "<style scoped>\n",
       "    .dataframe tbody tr th:only-of-type {\n",
       "        vertical-align: middle;\n",
       "    }\n",
       "\n",
       "    .dataframe tbody tr th {\n",
       "        vertical-align: top;\n",
       "    }\n",
       "\n",
       "    .dataframe thead th {\n",
       "        text-align: right;\n",
       "    }\n",
       "</style>\n",
       "<table border=\"1\" class=\"dataframe\">\n",
       "  <thead>\n",
       "    <tr style=\"text-align: right;\">\n",
       "      <th></th>\n",
       "      <th>-1</th>\n",
       "      <th>0</th>\n",
       "      <th>1</th>\n",
       "      <th>2</th>\n",
       "      <th>3</th>\n",
       "      <th>4</th>\n",
       "      <th>5</th>\n",
       "      <th>6</th>\n",
       "      <th>7</th>\n",
       "      <th>8</th>\n",
       "      <th>...</th>\n",
       "      <th>31</th>\n",
       "      <th>32</th>\n",
       "      <th>33</th>\n",
       "      <th>34</th>\n",
       "      <th>35</th>\n",
       "      <th>36</th>\n",
       "      <th>37</th>\n",
       "      <th>38</th>\n",
       "      <th>39</th>\n",
       "      <th>40</th>\n",
       "    </tr>\n",
       "  </thead>\n",
       "  <tbody>\n",
       "    <tr>\n",
       "      <th>0</th>\n",
       "      <td>0</td>\n",
       "      <td>1</td>\n",
       "      <td>0</td>\n",
       "      <td>0</td>\n",
       "      <td>0</td>\n",
       "      <td>0</td>\n",
       "      <td>0</td>\n",
       "      <td>0</td>\n",
       "      <td>0</td>\n",
       "      <td>0</td>\n",
       "      <td>...</td>\n",
       "      <td>0</td>\n",
       "      <td>0</td>\n",
       "      <td>0</td>\n",
       "      <td>0</td>\n",
       "      <td>0</td>\n",
       "      <td>0</td>\n",
       "      <td>0</td>\n",
       "      <td>0</td>\n",
       "      <td>0</td>\n",
       "      <td>0</td>\n",
       "    </tr>\n",
       "    <tr>\n",
       "      <th>1</th>\n",
       "      <td>0</td>\n",
       "      <td>0</td>\n",
       "      <td>1</td>\n",
       "      <td>0</td>\n",
       "      <td>0</td>\n",
       "      <td>0</td>\n",
       "      <td>0</td>\n",
       "      <td>0</td>\n",
       "      <td>0</td>\n",
       "      <td>0</td>\n",
       "      <td>...</td>\n",
       "      <td>0</td>\n",
       "      <td>0</td>\n",
       "      <td>0</td>\n",
       "      <td>0</td>\n",
       "      <td>0</td>\n",
       "      <td>0</td>\n",
       "      <td>0</td>\n",
       "      <td>0</td>\n",
       "      <td>0</td>\n",
       "      <td>0</td>\n",
       "    </tr>\n",
       "    <tr>\n",
       "      <th>2</th>\n",
       "      <td>0</td>\n",
       "      <td>1</td>\n",
       "      <td>0</td>\n",
       "      <td>0</td>\n",
       "      <td>0</td>\n",
       "      <td>0</td>\n",
       "      <td>0</td>\n",
       "      <td>0</td>\n",
       "      <td>0</td>\n",
       "      <td>0</td>\n",
       "      <td>...</td>\n",
       "      <td>0</td>\n",
       "      <td>0</td>\n",
       "      <td>0</td>\n",
       "      <td>0</td>\n",
       "      <td>0</td>\n",
       "      <td>0</td>\n",
       "      <td>0</td>\n",
       "      <td>0</td>\n",
       "      <td>0</td>\n",
       "      <td>0</td>\n",
       "    </tr>\n",
       "    <tr>\n",
       "      <th>3</th>\n",
       "      <td>0</td>\n",
       "      <td>1</td>\n",
       "      <td>0</td>\n",
       "      <td>0</td>\n",
       "      <td>0</td>\n",
       "      <td>0</td>\n",
       "      <td>0</td>\n",
       "      <td>0</td>\n",
       "      <td>0</td>\n",
       "      <td>0</td>\n",
       "      <td>...</td>\n",
       "      <td>0</td>\n",
       "      <td>0</td>\n",
       "      <td>0</td>\n",
       "      <td>0</td>\n",
       "      <td>0</td>\n",
       "      <td>0</td>\n",
       "      <td>0</td>\n",
       "      <td>0</td>\n",
       "      <td>0</td>\n",
       "      <td>0</td>\n",
       "    </tr>\n",
       "    <tr>\n",
       "      <th>4</th>\n",
       "      <td>0</td>\n",
       "      <td>1</td>\n",
       "      <td>0</td>\n",
       "      <td>0</td>\n",
       "      <td>0</td>\n",
       "      <td>0</td>\n",
       "      <td>0</td>\n",
       "      <td>0</td>\n",
       "      <td>0</td>\n",
       "      <td>0</td>\n",
       "      <td>...</td>\n",
       "      <td>0</td>\n",
       "      <td>0</td>\n",
       "      <td>0</td>\n",
       "      <td>0</td>\n",
       "      <td>0</td>\n",
       "      <td>0</td>\n",
       "      <td>0</td>\n",
       "      <td>0</td>\n",
       "      <td>0</td>\n",
       "      <td>0</td>\n",
       "    </tr>\n",
       "    <tr>\n",
       "      <th>...</th>\n",
       "      <td>...</td>\n",
       "      <td>...</td>\n",
       "      <td>...</td>\n",
       "      <td>...</td>\n",
       "      <td>...</td>\n",
       "      <td>...</td>\n",
       "      <td>...</td>\n",
       "      <td>...</td>\n",
       "      <td>...</td>\n",
       "      <td>...</td>\n",
       "      <td>...</td>\n",
       "      <td>...</td>\n",
       "      <td>...</td>\n",
       "      <td>...</td>\n",
       "      <td>...</td>\n",
       "      <td>...</td>\n",
       "      <td>...</td>\n",
       "      <td>...</td>\n",
       "      <td>...</td>\n",
       "      <td>...</td>\n",
       "      <td>...</td>\n",
       "    </tr>\n",
       "    <tr>\n",
       "      <th>32556</th>\n",
       "      <td>0</td>\n",
       "      <td>1</td>\n",
       "      <td>0</td>\n",
       "      <td>0</td>\n",
       "      <td>0</td>\n",
       "      <td>0</td>\n",
       "      <td>0</td>\n",
       "      <td>0</td>\n",
       "      <td>0</td>\n",
       "      <td>0</td>\n",
       "      <td>...</td>\n",
       "      <td>0</td>\n",
       "      <td>0</td>\n",
       "      <td>0</td>\n",
       "      <td>0</td>\n",
       "      <td>0</td>\n",
       "      <td>0</td>\n",
       "      <td>0</td>\n",
       "      <td>0</td>\n",
       "      <td>0</td>\n",
       "      <td>0</td>\n",
       "    </tr>\n",
       "    <tr>\n",
       "      <th>32557</th>\n",
       "      <td>0</td>\n",
       "      <td>1</td>\n",
       "      <td>0</td>\n",
       "      <td>0</td>\n",
       "      <td>0</td>\n",
       "      <td>0</td>\n",
       "      <td>0</td>\n",
       "      <td>0</td>\n",
       "      <td>0</td>\n",
       "      <td>0</td>\n",
       "      <td>...</td>\n",
       "      <td>0</td>\n",
       "      <td>0</td>\n",
       "      <td>0</td>\n",
       "      <td>0</td>\n",
       "      <td>0</td>\n",
       "      <td>0</td>\n",
       "      <td>0</td>\n",
       "      <td>0</td>\n",
       "      <td>0</td>\n",
       "      <td>0</td>\n",
       "    </tr>\n",
       "    <tr>\n",
       "      <th>32558</th>\n",
       "      <td>0</td>\n",
       "      <td>1</td>\n",
       "      <td>0</td>\n",
       "      <td>0</td>\n",
       "      <td>0</td>\n",
       "      <td>0</td>\n",
       "      <td>0</td>\n",
       "      <td>0</td>\n",
       "      <td>0</td>\n",
       "      <td>0</td>\n",
       "      <td>...</td>\n",
       "      <td>0</td>\n",
       "      <td>0</td>\n",
       "      <td>0</td>\n",
       "      <td>0</td>\n",
       "      <td>0</td>\n",
       "      <td>0</td>\n",
       "      <td>0</td>\n",
       "      <td>0</td>\n",
       "      <td>0</td>\n",
       "      <td>0</td>\n",
       "    </tr>\n",
       "    <tr>\n",
       "      <th>32559</th>\n",
       "      <td>0</td>\n",
       "      <td>1</td>\n",
       "      <td>0</td>\n",
       "      <td>0</td>\n",
       "      <td>0</td>\n",
       "      <td>0</td>\n",
       "      <td>0</td>\n",
       "      <td>0</td>\n",
       "      <td>0</td>\n",
       "      <td>0</td>\n",
       "      <td>...</td>\n",
       "      <td>0</td>\n",
       "      <td>0</td>\n",
       "      <td>0</td>\n",
       "      <td>0</td>\n",
       "      <td>0</td>\n",
       "      <td>0</td>\n",
       "      <td>0</td>\n",
       "      <td>0</td>\n",
       "      <td>0</td>\n",
       "      <td>0</td>\n",
       "    </tr>\n",
       "    <tr>\n",
       "      <th>32560</th>\n",
       "      <td>0</td>\n",
       "      <td>1</td>\n",
       "      <td>0</td>\n",
       "      <td>0</td>\n",
       "      <td>0</td>\n",
       "      <td>0</td>\n",
       "      <td>0</td>\n",
       "      <td>0</td>\n",
       "      <td>0</td>\n",
       "      <td>0</td>\n",
       "      <td>...</td>\n",
       "      <td>0</td>\n",
       "      <td>0</td>\n",
       "      <td>0</td>\n",
       "      <td>0</td>\n",
       "      <td>0</td>\n",
       "      <td>0</td>\n",
       "      <td>0</td>\n",
       "      <td>0</td>\n",
       "      <td>0</td>\n",
       "      <td>0</td>\n",
       "    </tr>\n",
       "  </tbody>\n",
       "</table>\n",
       "<p>32561 rows × 42 columns</p>\n",
       "</div>"
      ],
      "text/plain": [
       "       -1    0    1    2    3    4    5    6    7    8   ...   31   32   33  \\\n",
       "0        0    1    0    0    0    0    0    0    0    0  ...    0    0    0   \n",
       "1        0    0    1    0    0    0    0    0    0    0  ...    0    0    0   \n",
       "2        0    1    0    0    0    0    0    0    0    0  ...    0    0    0   \n",
       "3        0    1    0    0    0    0    0    0    0    0  ...    0    0    0   \n",
       "4        0    1    0    0    0    0    0    0    0    0  ...    0    0    0   \n",
       "...    ...  ...  ...  ...  ...  ...  ...  ...  ...  ...  ...  ...  ...  ...   \n",
       "32556    0    1    0    0    0    0    0    0    0    0  ...    0    0    0   \n",
       "32557    0    1    0    0    0    0    0    0    0    0  ...    0    0    0   \n",
       "32558    0    1    0    0    0    0    0    0    0    0  ...    0    0    0   \n",
       "32559    0    1    0    0    0    0    0    0    0    0  ...    0    0    0   \n",
       "32560    0    1    0    0    0    0    0    0    0    0  ...    0    0    0   \n",
       "\n",
       "        34   35   36   37   38   39   40  \n",
       "0        0    0    0    0    0    0    0  \n",
       "1        0    0    0    0    0    0    0  \n",
       "2        0    0    0    0    0    0    0  \n",
       "3        0    0    0    0    0    0    0  \n",
       "4        0    0    0    0    0    0    0  \n",
       "...    ...  ...  ...  ...  ...  ...  ...  \n",
       "32556    0    0    0    0    0    0    0  \n",
       "32557    0    0    0    0    0    0    0  \n",
       "32558    0    0    0    0    0    0    0  \n",
       "32559    0    0    0    0    0    0    0  \n",
       "32560    0    0    0    0    0    0    0  \n",
       "\n",
       "[32561 rows x 42 columns]"
      ]
     },
     "execution_count": 13,
     "metadata": {},
     "output_type": "execute_result"
    }
   ],
   "source": [
    "pd.get_dummies(adult.loc[:,'native.country'])"
   ]
  },
  {
   "cell_type": "markdown",
   "metadata": {},
   "source": [
    "# Modélisation"
   ]
  },
  {
   "cell_type": "markdown",
   "metadata": {},
   "source": [
    "Nous avons fait 3 modèles pour estimer ces données : Naive Bayes, KNN, Decision Tree"
   ]
  },
  {
   "cell_type": "markdown",
   "metadata": {},
   "source": [
    "Nous avons crée une méthode de formation pour les modèles. \n",
    "\n",
    "En utilisant cette méthode, nous pouvons transmettre le modèle qui a le hyperparamètre, l'ensemble d'apprentissage, l'ensemble de test et le valeur du pli de la validation croisée K-fold cv.\n",
    "\n",
    "Utilisons ensuite l'ensemble d'apprentissage pour entraîner le modèle et obtenons test_pred en utilisant le modèle entraîné pour prédire x_test.\n",
    "\n",
    "Et calculons la probabilité d'échantillons appartenant à différentes catégories grâce à predict_proba.\n",
    "\n",
    "Continuons à utiliser la valitation croisé K-fold pour entraîner à nouveau modèle et renvoyons les résultats de la formation et les indicateurs d'évaluation du modèle."
   ]
  },
  {
   "cell_type": "code",
   "execution_count": 14,
   "metadata": {},
   "outputs": [],
   "source": [
    "def fit_ml_algo(algo, x_val, y_val, x_test, cv):  \n",
    "    model = algo.fit(x_val, y_val)  \n",
    "    test_pred = model.predict(x_test)  \n",
    "    try:  \n",
    "        probs = model.predict_proba(x_test)[:,1]  \n",
    "    except Exception as e:  \n",
    "        probs = \"Unavailable\"  \n",
    "        print('Warning: Probs unavaliable.')  \n",
    "        print('Reason: ', e)  \n",
    "          \n",
    "      \n",
    "    acc = round(model.score(x_val, y_val) * 100, 2)   \n",
    "    # CV   \n",
    "    train_pred = model_selection.cross_val_predict(algo,   \n",
    "                                                  x_val,   \n",
    "                                                  y_val,   \n",
    "                                                  cv=cv,   \n",
    "                                                  n_jobs = -1)  \n",
    "    acc_cv = round(metrics.accuracy_score(y_val, train_pred) * 100, 2)  \n",
    "    return train_pred, test_pred, acc, acc_cv, probs  "
   ]
  },
  {
   "cell_type": "markdown",
   "metadata": {},
   "source": [
    "Pour créer une méthode de rapport pour la construction d'hyperparamètres.\n",
    "\n",
    "Nous utilsons ici le moyen de RandomizedSearchCV() pour choisir les mieux hyperparamètres. \n",
    "\n",
    "Par rapport une autre méthode GridSearchCV(), le moyen qu'on a choisi prend peu de temps, c'est parce que le moyen qu'on utilise ne va pas estimer tout les parametre   "
   ]
  },
  {
   "cell_type": "code",
   "execution_count": 15,
   "metadata": {},
   "outputs": [],
   "source": [
    "def report(results, n_top=5):  \n",
    "    for i in range(1, n_top + 1):  \n",
    "        candidates = np.flatnonzero(results['rank_test_score'] == i)  \n",
    "        for candidate in candidates:  \n",
    "            print(\"Model with rank: {0}\".format(i))  \n",
    "            print(\"Mean validation score: {0:.3f} (std: {1:.3f})\".format(  \n",
    "                  results['mean_test_score'][candidate],  \n",
    "                  results['std_test_score'][candidate]))  \n",
    "            print(\"Parameters: {0}\\n\".format(results['params'][candidate]))"
   ]
  },
  {
   "cell_type": "markdown",
   "metadata": {},
   "source": [
    "Créer une méthode pour calculer TPR(True positive Rate) et FPR(False Positive Rate) et déssiner la courbe ROC à la fois."
   ]
  },
  {
   "cell_type": "code",
   "execution_count": 16,
   "metadata": {},
   "outputs": [],
   "source": [
    "import matplotlib.pyplot as plt\n",
    "from sklearn.metrics import roc_curve, auc \n",
    "def plot_roc_curve(y_test, preds):  \n",
    "    fpr, tpr, threshold = metrics.roc_curve(y_test, preds)  \n",
    "    roc_auc = metrics.auc(fpr, tpr)  \n",
    "    plt.title('ROC')  \n",
    "    plt.plot(fpr, tpr, 'b', label = 'AUC = %0.2f' % roc_auc)  \n",
    "    plt.legend(loc = 'lower right')  \n",
    "    plt.plot([0, 1], [0, 1],'r--')  \n",
    "    plt.xlim([-0.01, 1.01])  \n",
    "    plt.ylim([-0.01, 1.01])  \n",
    "    plt.ylabel('TPR')  \n",
    "    plt.xlabel('FPR')  \n",
    "    plt.show()  "
   ]
  },
  {
   "cell_type": "markdown",
   "metadata": {},
   "source": [
    "## Native Bayes"
   ]
  },
  {
   "cell_type": "code",
   "execution_count": 17,
   "metadata": {},
   "outputs": [
    {
     "name": "stdout",
     "output_type": "stream",
     "text": [
      "Accuracy: 79.64\n",
      "Accuracy CV 10-Fold: 79.66\n",
      "Running Time: 3 s\n"
     ]
    }
   ],
   "source": [
    "import time,datetime\n",
    "from sklearn.naive_bayes import GaussianNB\n",
    "from sklearn import model_selection,metrics\n",
    "start_time = time.time()  \n",
    "train_pred_gaussian, test_pred_gaussian, acc_gaussian, acc_cv_gaussian, probs_gau\\\n",
    "= fit_ml_algo(GaussianNB(),   \n",
    "              x_val,   \n",
    "              y_val,   \n",
    "              x_test,   \n",
    "              10)  \n",
    "gaussian_time = (time.time() - start_time)  \n",
    "print(\"Accuracy: %s\" % acc_gaussian)  \n",
    "print(\"Accuracy CV 10-Fold: %s\" % acc_cv_gaussian)  \n",
    "print(\"Running Time: %s s\" % datetime.timedelta(seconds=gaussian_time).seconds) "
   ]
  },
  {
   "cell_type": "markdown",
   "metadata": {},
   "source": [
    "La précision de prédiction du modèleatteint 79.64%.\n",
    "\n",
    "La prédiction de la validation croisée décuplée est de 79.66%.\n",
    "\n",
    "Le temps de calcul est 3 seconde."
   ]
  },
  {
   "cell_type": "markdown",
   "metadata": {},
   "source": [
    "Performance de l'ensemble de la validation "
   ]
  },
  {
   "cell_type": "code",
   "execution_count": 18,
   "metadata": {},
   "outputs": [
    {
     "name": "stdout",
     "output_type": "stream",
     "text": [
      "              precision    recall  f1-score   support\n",
      "\n",
      "           0       0.67      0.30      0.42      3920\n",
      "           1       0.81      0.95      0.88     12360\n",
      "\n",
      "    accuracy                           0.80     16280\n",
      "   macro avg       0.74      0.63      0.65     16280\n",
      "weighted avg       0.78      0.80      0.77     16280\n",
      "\n"
     ]
    }
   ],
   "source": [
    "print(metrics.classification_report(y_val, train_pred_gaussian))  "
   ]
  },
  {
   "cell_type": "markdown",
   "metadata": {},
   "source": [
    "Performances de l'ensemble de test"
   ]
  },
  {
   "cell_type": "code",
   "execution_count": 19,
   "metadata": {},
   "outputs": [
    {
     "name": "stdout",
     "output_type": "stream",
     "text": [
      "              precision    recall  f1-score   support\n",
      "\n",
      "           0       0.69      0.32      0.44      3921\n",
      "           1       0.82      0.95      0.88     12360\n",
      "\n",
      "    accuracy                           0.80     16281\n",
      "   macro avg       0.75      0.64      0.66     16281\n",
      "weighted avg       0.79      0.80      0.77     16281\n",
      "\n"
     ]
    }
   ],
   "source": [
    "print(metrics.classification_report(y_test, test_pred_gaussian))   "
   ]
  },
  {
   "cell_type": "markdown",
   "metadata": {},
   "source": [
    "La courbe ROC de Naive Bayes"
   ]
  },
  {
   "cell_type": "code",
   "execution_count": 20,
   "metadata": {},
   "outputs": [
    {
     "data": {
      "image/png": "[encoded data removed]",
      "text/plain": [
       "<Figure size 432x288 with 1 Axes>"
      ]
     },
     "metadata": {
      "needs_background": "light"
     },
     "output_type": "display_data"
    }
   ],
   "source": [
    "plot_roc_curve(y_test,probs_gau) "
   ]
  },
  {
   "cell_type": "markdown",
   "metadata": {},
   "source": [
    "## K-NN"
   ]
  },
  {
   "cell_type": "code",
   "execution_count": 21,
   "metadata": {},
   "outputs": [
    {
     "name": "stdout",
     "output_type": "stream",
     "text": [
      "Accuracy: 90.21\n",
      "Accuracy CV 10-Fold: 82.71\n",
      "Running Time: 0:00:10.506866 s\n"
     ]
    }
   ],
   "source": [
    "from sklearn.neighbors import KNeighborsClassifier\n",
    "start_time = time.time()  \n",
    "train_pred_knn, test_pred_knn, acc_knn, acc_cv_knn, probs_knn\\\n",
    "= fit_ml_algo(KNeighborsClassifier(n_neighbors = 3,  \n",
    "                                   n_jobs = -1),   \n",
    "                                   x_val,   \n",
    "                                   y_val,   \n",
    "                                   x_test,   \n",
    "                                   10)  \n",
    "knn_time = (time.time() - start_time)  \n",
    "print(\"Accuracy: %s\" % acc_knn)  \n",
    "print(\"Accuracy CV 10-Fold: %s\" % acc_cv_knn)  \n",
    "print(\"Running Time: %s s\" % datetime.timedelta(seconds=knn_time))  "
   ]
  },
  {
   "cell_type": "markdown",
   "metadata": {},
   "source": [
    "La précision de prédiction du modèleatteint 90.21%.\n",
    "\n",
    "La prédiction de la validation croisée décuplée est de 82.71%."
   ]
  },
  {
   "cell_type": "markdown",
   "metadata": {},
   "source": [
    "Performance de l'ensemble de la validation "
   ]
  },
  {
   "cell_type": "code",
   "execution_count": 22,
   "metadata": {},
   "outputs": [
    {
     "name": "stdout",
     "output_type": "stream",
     "text": [
      "              precision    recall  f1-score   support\n",
      "\n",
      "           0       0.65      0.60      0.62      3920\n",
      "           1       0.88      0.90      0.89     12360\n",
      "\n",
      "    accuracy                           0.83     16280\n",
      "   macro avg       0.77      0.75      0.76     16280\n",
      "weighted avg       0.82      0.83      0.82     16280\n",
      "\n"
     ]
    }
   ],
   "source": [
    "print(metrics.classification_report(y_val,train_pred_knn))"
   ]
  },
  {
   "cell_type": "markdown",
   "metadata": {},
   "source": [
    "Performances de l'ensemble de test"
   ]
  },
  {
   "cell_type": "code",
   "execution_count": 23,
   "metadata": {},
   "outputs": [
    {
     "name": "stdout",
     "output_type": "stream",
     "text": [
      "              precision    recall  f1-score   support\n",
      "\n",
      "           0       0.68      0.61      0.64      3921\n",
      "           1       0.88      0.91      0.89     12360\n",
      "\n",
      "    accuracy                           0.84     16281\n",
      "   macro avg       0.78      0.76      0.77     16281\n",
      "weighted avg       0.83      0.84      0.83     16281\n",
      "\n"
     ]
    }
   ],
   "source": [
    "print(metrics.classification_report(y_test,test_pred_knn))"
   ]
  },
  {
   "cell_type": "markdown",
   "metadata": {},
   "source": [
    "La courbe ROC de KNN"
   ]
  },
  {
   "cell_type": "code",
   "execution_count": 33,
   "metadata": {},
   "outputs": [
    {
     "data": {
      "image/png": "[encoded data removed]",
      "text/plain": [
       "<Figure size 432x288 with 1 Axes>"
      ]
     },
     "metadata": {
      "needs_background": "light"
     },
     "output_type": "display_data"
    }
   ],
   "source": [
    "plot_roc_curve(y_test,probs_knn)"
   ]
  },
  {
   "cell_type": "markdown",
   "metadata": {},
   "source": [
    "## L'arbre de décision"
   ]
  },
  {
   "cell_type": "code",
   "execution_count": 25,
   "metadata": {},
   "outputs": [
    {
     "name": "stdout",
     "output_type": "stream",
     "text": [
      "Accuracy: 97.58\n",
      "Accuracy CV 10-Fold: 80.9\n",
      "Running Time: 0 s\n"
     ]
    }
   ],
   "source": [
    "from sklearn.tree import DecisionTreeClassifier\n",
    "start_time = time.time()  \n",
    "train_pred_dt, test_pred_dt, acc_dt, acc_cv_dt, probs_dt\\\n",
    "= fit_ml_algo(DecisionTreeClassifier(),   \n",
    "              x_val,   \n",
    "              y_val,   \n",
    "              x_test,   \n",
    "              10)  \n",
    "dt_time = (time.time() - start_time)  \n",
    "print(\"Accuracy: %s\" % acc_dt)  \n",
    "print(\"Accuracy CV 10-Fold: %s\" % acc_cv_dt)  \n",
    "print(\"Running Time: %s s\" % datetime.timedelta(seconds=dt_time).seconds)"
   ]
  },
  {
   "cell_type": "markdown",
   "metadata": {},
   "source": [
    "La précision de prédiction du modèleatteint 97.58%.\n",
    "\n",
    "La prédiction de la validation croisée décuplée est de 80.93%.\n",
    "\n",
    "Le temps de calcul est 0s."
   ]
  },
  {
   "cell_type": "markdown",
   "metadata": {},
   "source": [
    "La performance de l'ensemble d'entrainement"
   ]
  },
  {
   "cell_type": "code",
   "execution_count": 26,
   "metadata": {},
   "outputs": [
    {
     "name": "stdout",
     "output_type": "stream",
     "text": [
      "              precision    recall  f1-score   support\n",
      "\n",
      "           0       0.60      0.62      0.61      3920\n",
      "           1       0.88      0.87      0.87     12360\n",
      "\n",
      "    accuracy                           0.81     16280\n",
      "   macro avg       0.74      0.75      0.74     16280\n",
      "weighted avg       0.81      0.81      0.81     16280\n",
      "\n"
     ]
    }
   ],
   "source": [
    "print(metrics.classification_report(y_val,train_pred_dt))"
   ]
  },
  {
   "cell_type": "markdown",
   "metadata": {},
   "source": [
    "La performance de l'ensemble test"
   ]
  },
  {
   "cell_type": "code",
   "execution_count": 27,
   "metadata": {},
   "outputs": [
    {
     "name": "stdout",
     "output_type": "stream",
     "text": [
      "              precision    recall  f1-score   support\n",
      "\n",
      "           0       0.61      0.64      0.62      3921\n",
      "           1       0.88      0.87      0.88     12360\n",
      "\n",
      "    accuracy                           0.81     16281\n",
      "   macro avg       0.75      0.75      0.75     16281\n",
      "weighted avg       0.82      0.81      0.82     16281\n",
      "\n"
     ]
    }
   ],
   "source": [
    "print(metrics.classification_report(y_test,test_pred_dt))"
   ]
  },
  {
   "cell_type": "markdown",
   "metadata": {},
   "source": [
    "La graphique d'arbre décision"
   ]
  },
  {
   "cell_type": "code",
   "execution_count": 37,
   "metadata": {},
   "outputs": [
    {
     "data": {
      "image/png": "[encoded data removed]",
      "text/plain": [
       "<Figure size 432x288 with 1 Axes>"
      ]
     },
     "metadata": {
      "needs_background": "light"
     },
     "output_type": "display_data"
    }
   ],
   "source": [
    "plot_roc_curve(y_test,probs_dt)"
   ]
  },
  {
   "cell_type": "markdown",
   "metadata": {},
   "source": [
    "Nous voulons utiliser le valeur de Accuracy, Présision, Recall, et F1 comme les indicateurs.\n"
   ]
  },
  {
   "cell_type": "code",
   "execution_count": 28,
   "metadata": {},
   "outputs": [
    {
     "data": {
      "text/html": [
       "<div>\n",
       "<style scoped>\n",
       "    .dataframe tbody tr th:only-of-type {\n",
       "        vertical-align: middle;\n",
       "    }\n",
       "\n",
       "    .dataframe tbody tr th {\n",
       "        vertical-align: top;\n",
       "    }\n",
       "\n",
       "    .dataframe thead th {\n",
       "        text-align: right;\n",
       "    }\n",
       "</style>\n",
       "<table border=\"1\" class=\"dataframe\">\n",
       "  <thead>\n",
       "    <tr style=\"text-align: right;\">\n",
       "      <th></th>\n",
       "      <th>Model</th>\n",
       "      <th>Acc</th>\n",
       "      <th>Acc_cv</th>\n",
       "      <th>precision</th>\n",
       "      <th>recall</th>\n",
       "      <th>F1</th>\n",
       "    </tr>\n",
       "  </thead>\n",
       "  <tbody>\n",
       "    <tr>\n",
       "      <th>2</th>\n",
       "      <td>Decision Tree</td>\n",
       "      <td>97.58</td>\n",
       "      <td>80.90</td>\n",
       "      <td>0.883</td>\n",
       "      <td>0.870</td>\n",
       "      <td>0.876</td>\n",
       "    </tr>\n",
       "    <tr>\n",
       "      <th>0</th>\n",
       "      <td>KNN</td>\n",
       "      <td>90.21</td>\n",
       "      <td>82.71</td>\n",
       "      <td>0.880</td>\n",
       "      <td>0.908</td>\n",
       "      <td>0.894</td>\n",
       "    </tr>\n",
       "    <tr>\n",
       "      <th>1</th>\n",
       "      <td>Naive Bayes</td>\n",
       "      <td>79.64</td>\n",
       "      <td>79.66</td>\n",
       "      <td>0.816</td>\n",
       "      <td>0.954</td>\n",
       "      <td>0.880</td>\n",
       "    </tr>\n",
       "  </tbody>\n",
       "</table>\n",
       "</div>"
      ],
      "text/plain": [
       "           Model    Acc  Acc_cv  precision  recall     F1\n",
       "2  Decision Tree  97.58   80.90      0.883   0.870  0.876\n",
       "0            KNN  90.21   82.71      0.880   0.908  0.894\n",
       "1    Naive Bayes  79.64   79.66      0.816   0.954  0.880"
      ]
     },
     "execution_count": 28,
     "metadata": {},
     "output_type": "execute_result"
    }
   ],
   "source": [
    "from sklearn.metrics import f1_score, precision_score, recall_score\n",
    "models = pd.DataFrame({  \n",
    "    'Model': ['KNN', 'Naive Bayes', 'Decision Tree'],  \n",
    "    'Acc': [  acc_knn, acc_gaussian,  acc_dt],  \n",
    "    'Acc_cv': [ acc_cv_knn,acc_cv_gaussian, acc_cv_dt],  \n",
    "    'precision': [  \n",
    "        round(precision_score(y_test,test_pred_knn), 3),    \n",
    "        round(precision_score(y_test,test_pred_gaussian), 3),  \n",
    "        round(precision_score(y_test,test_pred_dt), 3)\n",
    "                 ], \n",
    "    \n",
    "    'recall': [  \n",
    "        round(recall_score(y_test,test_pred_knn), 3),   \n",
    "        round(recall_score(y_test,test_pred_gaussian), 3),  \n",
    "        round(recall_score(y_test,test_pred_dt), 3),   \n",
    "              ],  \n",
    "    \n",
    "    'F1': [  \n",
    "        round(f1_score(y_test,test_pred_knn,average='binary'), 3),  \n",
    "        round(f1_score(y_test,test_pred_gaussian,average='binary'), 3),  \n",
    "        round(f1_score(y_test,test_pred_dt,average='binary'), 3),  \n",
    "          ],  \n",
    "})  \n",
    "models.sort_values(by='Acc', ascending=False)  \n"
   ]
  },
  {
   "cell_type": "markdown",
   "metadata": {},
   "source": [
    "Par rapport les 3 modèles que j'ai choisi, le meilleur ici c'est le K-NN, l'accuracy est le plus grand et le valeur de F1 est plus grand que les autres.\n",
    "\n",
    "F1 : la moyenne harmonique de la valeur Accuracy et la valeur de Présision."
   ]
  },
  {
   "cell_type": "markdown",
   "metadata": {},
   "source": [
    "## Le graphique ACP"
   ]
  },
  {
   "cell_type": "code",
   "execution_count": 59,
   "metadata": {},
   "outputs": [],
   "source": [
    "# Reduction avec l'ACP\n",
    "# Création du modèle\n",
    "import sklearn.decomposition as sk_de\n",
    "from sklearn.decomposition import PCA\n",
    "pca = sk_de.PCA(n_components=2)\n",
    "# Apprentissage\n",
    "components = pca.fit_transform(adult.drop(['income'],axis=1))\n",
    "# Transformation en dataframe\n",
    "adult_data = pd.DataFrame(components,columns = ['principal component 1', 'principal component 2'],index=adult.index)\n",
    "# Récupération des catégories pour la visualisation\n",
    "adult_data = pd.merge(adult_data,adult,how='left',left_index=True,right_index=True)"
   ]
  },
  {
   "cell_type": "code",
   "execution_count": 60,
   "metadata": {},
   "outputs": [
    {
     "data": {
      "image/png": "[encoded data removed]",
      "text/plain": [
       "<Figure size 576x576 with 1 Axes>"
      ]
     },
     "metadata": {},
     "output_type": "display_data"
    }
   ],
   "source": [
    "# Représentation de la projection selon la salaire\n",
    "# Pour la création de graphiques\n",
    "\n",
    "import matplotlib.pyplot as plt\n",
    "import matplotlib.lines as plt_l\n",
    "fig = plt.figure(figsize = (8,8))\n",
    "ax = fig.add_subplot(1,1,1) \n",
    "ax.set_xlabel('Principal Component 1', fontsize = 15)\n",
    "ax.set_ylabel('Principal Component 2', fontsize = 15)\n",
    "ax.set_title('2 component PCA', fontsize = 20)\n",
    "labels = adult_data.income.unique()\n",
    "labels_text = ['<=50K','>50K']\n",
    "colors = {0:'r',1:'b'}\n",
    "for label_i in labels:\n",
    "    indicesToKeep = adult_data['income'] == label_i\n",
    "    ax.scatter(adult_data.loc[indicesToKeep, 'principal component 1'], adult_data.loc[indicesToKeep, 'principal component 2']\n",
    "               , c = colors[label_i], s = 50,label=labels_text[label_i])\n",
    "ax.legend(labels_text)\n",
    "ax.grid()\n"
   ]
  },
  {
   "cell_type": "code",
   "execution_count": 49,
   "metadata": {},
   "outputs": [
    {
     "data": {
      "text/html": [
       "<div>\n",
       "<style scoped>\n",
       "    .dataframe tbody tr th:only-of-type {\n",
       "        vertical-align: middle;\n",
       "    }\n",
       "\n",
       "    .dataframe tbody tr th {\n",
       "        vertical-align: top;\n",
       "    }\n",
       "\n",
       "    .dataframe thead th {\n",
       "        text-align: right;\n",
       "    }\n",
       "</style>\n",
       "<table border=\"1\" class=\"dataframe\">\n",
       "  <thead>\n",
       "    <tr style=\"text-align: right;\">\n",
       "      <th></th>\n",
       "      <th>variance_explained</th>\n",
       "    </tr>\n",
       "  </thead>\n",
       "  <tbody>\n",
       "    <tr>\n",
       "      <td>compo_1</td>\n",
       "      <td>100.0</td>\n",
       "    </tr>\n",
       "    <tr>\n",
       "      <td>compo_2</td>\n",
       "      <td>0.0</td>\n",
       "    </tr>\n",
       "    <tr>\n",
       "      <td>compo_3</td>\n",
       "      <td>0.0</td>\n",
       "    </tr>\n",
       "    <tr>\n",
       "      <td>compo_4</td>\n",
       "      <td>0.0</td>\n",
       "    </tr>\n",
       "    <tr>\n",
       "      <td>compo_5</td>\n",
       "      <td>0.0</td>\n",
       "    </tr>\n",
       "  </tbody>\n",
       "</table>\n",
       "</div>"
      ],
      "text/plain": [
       "         variance_explained\n",
       "compo_1               100.0\n",
       "compo_2                 0.0\n",
       "compo_3                 0.0\n",
       "compo_4                 0.0\n",
       "compo_5                 0.0"
      ]
     },
     "execution_count": 49,
     "metadata": {},
     "output_type": "execute_result"
    }
   ],
   "source": [
    "# part de la variance expliquée\n",
    "pca2 = sk_de.PCA(n_components=5)\n",
    "# Apprentissage\n",
    "components = pca2.fit_transform(adult.drop(['income'],axis=1))\n",
    "explained_var = [round(x*100,0) for x in pca2.explained_variance_ratio_]\n",
    "explained_var = pd.DataFrame(explained_var,['compo_{}'.format(x) for x in range(1,6)])\n",
    "explained_var.rename(columns={0:'variance_explained'},inplace=True)\n",
    "explained_var"
   ]
  },
  {
   "cell_type": "code",
   "execution_count": 50,
   "metadata": {},
   "outputs": [
    {
     "data": {
      "image/png": "[encoded data removed]",
      "text/plain": [
       "<Figure size 576x576 with 2 Axes>"
      ]
     },
     "metadata": {},
     "output_type": "display_data"
    }
   ],
   "source": [
    "# Représentation selon une des variables d'entrée\n",
    "fig = plt.figure(figsize = (8,8))\n",
    "ax = fig.add_subplot(1,1,1) \n",
    "ax.set_xlabel('Principal Component 1', fontsize = 15)\n",
    "ax.set_ylabel('Principal Component 2', fontsize = 15)\n",
    "ax.set_title('2 component PCA', fontsize = 20)\n",
    "points = ax.scatter(adult_data.loc[:,'principal component 1'], adult_data.loc[:, 'principal component 2']\n",
    "               , c = adult_data.loc[:,'age'], s = 50)\n",
    "v1 = np.linspace(adult_data.loc[:,'age'].min(),adult_data.loc[:,'age'].max(),5, endpoint=True)\n",
    "cb = fig.colorbar(points,ticks=v1)\n",
    "\n",
    "ax.grid()"
   ]
  },
  {
   "cell_type": "code",
   "execution_count": 51,
   "metadata": {},
   "outputs": [],
   "source": [
    "import sklearn.cluster as sk_c\n",
    "models_cluster = {}\n",
    "results = {}\n",
    "for n_cluster_i in range(2,6):\n",
    "    models_cluster[n_cluster_i] = sk_c.KMeans(n_clusters=n_cluster_i)\n",
    "    models_cluster[n_cluster_i].fit(adult_data.loc[:,['principal component 1', 'principal component 2']])\n",
    "    category = pd.DataFrame(models_cluster[n_cluster_i].labels_,index=adult.index)\n",
    "    category.rename(columns={0:'cluster'},inplace=True)\n",
    "    results[n_cluster_i] = pd.merge(category,adult_data,how='left',left_index=True,right_index=True)\n",
    "    "
   ]
  },
  {
   "cell_type": "code",
   "execution_count": 52,
   "metadata": {},
   "outputs": [
    {
     "data": {
      "text/plain": [
       "<matplotlib.legend.Legend at 0x2947bb37c48>"
      ]
     },
     "execution_count": 52,
     "metadata": {},
     "output_type": "execute_result"
    },
    {
     "data": {
      "image/png": "[encoded data removed]",
      "text/plain": [
       "<Figure size 720x720 with 4 Axes>"
      ]
     },
     "metadata": {},
     "output_type": "display_data"
    }
   ],
   "source": [
    "idx2Axes = {}\n",
    "for i in range(5):\n",
    "    idx2Axes[i] = (i//2,i%2)\n",
    "fig,axes = plt.subplots(2,2,figsize=(10,10))\n",
    "markers = {0:'.',1:'x'}\n",
    "cluster_colors = {0:'r',1:'b',2:'g',3:'y',4:'c'}\n",
    "labels_text = ['<=50K','>50K']\n",
    "idx = 0\n",
    "for n_cluster_i in results.keys():\n",
    "    ax = axes[idx2Axes[idx]]\n",
    "    if idx2Axes[idx][1] == 0:\n",
    "        ax.set_ylabel('principal component 2')\n",
    "    if idx2Axes[idx][0] == 1:\n",
    "        ax.set_xlabel('principal component 1')  \n",
    "    result_i = results[n_cluster_i]\n",
    "    for label_i in result_i.income.unique():\n",
    "        for cluster_i in result_i.cluster.unique():\n",
    "            mask = ((result_i.income==label_i)&(result_i.cluster==cluster_i))\n",
    "            ax.scatter(result_i.loc[mask,'principal component 1'],\n",
    "                       result_i.loc[mask,'principal component 2'],\n",
    "                      marker=markers[label_i],\n",
    "                      color=cluster_colors[cluster_i],\n",
    "                      label='label {} dans cluster {}'.format(labels_text[label_i],cluster_i))\n",
    "    idx += 1\n",
    "legend_elements = [plt_l.Line2D([0], [0], marker='P', color='w',markerfacecolor='k', label='<=50K', markersize=15),\n",
    "                   plt_l.Line2D([0], [0], marker='P', color='w',markerfacecolor='k', label='>50K', markersize=15),\n",
    "                  plt_l.Line2D([0], [0], marker='.', color='w',markerfacecolor='r', label='Cluster1', markersize=15),\n",
    "                  plt_l.Line2D([0], [0], marker='.', color='w',markerfacecolor='b', label='Cluster 2', markersize=15),\n",
    "                  plt_l.Line2D([0], [0], marker='.', color='w',markerfacecolor='g', label='Cluster 3', markersize=15),\n",
    "                  plt_l.Line2D([0], [0], marker='.', color='w',markerfacecolor='y', label='Cluster 4', markersize=15),\n",
    "                  plt_l.Line2D([0], [0], marker='.', color='w',markerfacecolor='c', label='Cluster 5', markersize=15),]\n",
    "\n",
    "ax.legend(handles=legend_elements,loc='lower center',bbox_to_anchor=(0,-0.45),ncol=3,borderaxespad=0,frameon=False,)"
   ]
  },
  {
   "cell_type": "code",
   "execution_count": 53,
   "metadata": {},
   "outputs": [
    {
     "data": {
      "text/html": [
       "<div>\n",
       "<style scoped>\n",
       "    .dataframe tbody tr th:only-of-type {\n",
       "        vertical-align: middle;\n",
       "    }\n",
       "\n",
       "    .dataframe tbody tr th {\n",
       "        vertical-align: top;\n",
       "    }\n",
       "\n",
       "    .dataframe thead th {\n",
       "        text-align: right;\n",
       "    }\n",
       "</style>\n",
       "<table border=\"1\" class=\"dataframe\">\n",
       "  <thead>\n",
       "    <tr style=\"text-align: right;\">\n",
       "      <th></th>\n",
       "      <th>principal component 1</th>\n",
       "      <th>principal component 2</th>\n",
       "    </tr>\n",
       "  </thead>\n",
       "  <tbody>\n",
       "    <tr>\n",
       "      <td>cluster 1</td>\n",
       "      <td>-686.785615</td>\n",
       "      <td>-1.386078</td>\n",
       "    </tr>\n",
       "    <tr>\n",
       "      <td>cluster_2</td>\n",
       "      <td>139957.405718</td>\n",
       "      <td>282.463615</td>\n",
       "    </tr>\n",
       "  </tbody>\n",
       "</table>\n",
       "</div>"
      ],
      "text/plain": [
       "           principal component 1  principal component 2\n",
       "cluster 1            -686.785615              -1.386078\n",
       "cluster_2          139957.405718             282.463615"
      ]
     },
     "execution_count": 53,
     "metadata": {},
     "output_type": "execute_result"
    }
   ],
   "source": [
    "cluster_centers = pd.DataFrame(\n",
    "    models_cluster[2].cluster_centers_,columns=['principal component 1','principal component 2'],\n",
    "    index=['cluster 1','cluster_2'])\n",
    "cluster_centers"
   ]
  },
  {
   "cell_type": "code",
   "execution_count": 54,
   "metadata": {},
   "outputs": [
    {
     "data": {
      "text/plain": [
       "<matplotlib.legend.Legend at 0x2947bc15e88>"
      ]
     },
     "execution_count": 54,
     "metadata": {},
     "output_type": "execute_result"
    },
    {
     "data": {
      "image/png": "[encoded data removed]",
      "text/plain": [
       "<Figure size 432x432 with 1 Axes>"
      ]
     },
     "metadata": {},
     "output_type": "display_data"
    }
   ],
   "source": [
    "fig,ax = plt.subplots(1,1,figsize=(6,6))\n",
    "markers = {0:'.',1:'x'}\n",
    "cluster_colors = {0:'r',1:'b',2:'g',3:'y',4:'c'}\n",
    "labels_text = {0:'<=50K',1:'>50K'}\n",
    "ax.set_ylabel('principal component 2')\n",
    "ax.set_xlabel('principal component 1')  \n",
    "result_i = results[2]\n",
    "for label_i in result_i.income.unique():\n",
    "    for cluster_i in result_i.cluster.unique():\n",
    "        mask = ((result_i.income==label_i)&(result_i.cluster==cluster_i))\n",
    "        ax.scatter(result_i.loc[mask,'principal component 1'],\n",
    "                       result_i.loc[mask,'principal component 2'],\n",
    "                      marker=markers[label_i],\n",
    "                      color=cluster_colors[cluster_i],\n",
    "                      label='label {} dans cluster {}'.format(labels_text[label_i],cluster_i))\n",
    "ax.scatter(cluster_centers['principal component 1'],cluster_centers['principal component 2'],color='cyan',s=30)\n",
    "legend_elements = [plt_l.Line2D([0], [0], marker='P', color='w',markerfacecolor='k', label='<=50K', markersize=15),\n",
    "                   plt_l.Line2D([0], [0], marker='P', color='w',markerfacecolor='k', label='>50K', markersize=15),\n",
    "                  plt_l.Line2D([0], [0], marker='.', color='w',markerfacecolor='r', label='Cluster 1', markersize=15),\n",
    "                  plt_l.Line2D([0], [0], marker='.', color='w',markerfacecolor='b', label='Cluster 2', markersize=15),\n",
    "                  plt_l.Line2D([0], [0], marker='.', color='w',markerfacecolor='c', label='Cluster center', markersize=30)]\n",
    "\n",
    "ax.legend(handles=legend_elements,loc='lower center',bbox_to_anchor=(0.5,-0.25),ncol=3,borderaxespad=0,frameon=False,)"
   ]
  },
  {
   "cell_type": "code",
   "execution_count": 63,
   "metadata": {},
   "outputs": [
    {
     "name": "stdout",
     "output_type": "stream",
     "text": [
      "Collecting prince\n",
      "  Using cached https://files.pythonhosted.org/packages/94/6c/491a3fabfd1ce75e285a4fe4200fccde5d83664733541a3a74c0b02e77fb/prince-0.7.1-py3-none-any.whl\n",
      "Requirement already satisfied: scikit-learn>=0.22.1 in c:\\users\\lenovo\\anaconda3\\lib\\site-packages (from prince) (0.23.2)\n",
      "Requirement already satisfied: pandas>=1.0.3 in c:\\users\\lenovo\\anaconda3\\lib\\site-packages (from prince) (1.1.4)\n",
      "Requirement already satisfied: numpy>=1.17.1 in c:\\users\\lenovo\\anaconda3\\lib\\site-packages (from prince) (1.19.4)\n",
      "Requirement already satisfied: matplotlib>=3.0.2 in c:\\users\\lenovo\\anaconda3\\lib\\site-packages (from prince) (3.1.1)\n",
      "Requirement already satisfied: scipy>=1.3.0 in c:\\users\\lenovo\\anaconda3\\lib\\site-packages (from prince) (1.3.1)\n",
      "Requirement already satisfied: joblib>=0.11 in c:\\users\\lenovo\\anaconda3\\lib\\site-packages (from scikit-learn>=0.22.1->prince) (0.13.2)\n",
      "Requirement already satisfied: threadpoolctl>=2.0.0 in c:\\users\\lenovo\\anaconda3\\lib\\site-packages (from scikit-learn>=0.22.1->prince) (2.1.0)\n",
      "Requirement already satisfied: pytz>=2017.2 in c:\\users\\lenovo\\anaconda3\\lib\\site-packages (from pandas>=1.0.3->prince) (2019.3)\n",
      "Requirement already satisfied: python-dateutil>=2.7.3 in c:\\users\\lenovo\\anaconda3\\lib\\site-packages (from pandas>=1.0.3->prince) (2.8.0)\n",
      "Requirement already satisfied: cycler>=0.10 in c:\\users\\lenovo\\anaconda3\\lib\\site-packages (from matplotlib>=3.0.2->prince) (0.10.0)\n",
      "Requirement already satisfied: kiwisolver>=1.0.1 in c:\\users\\lenovo\\anaconda3\\lib\\site-packages (from matplotlib>=3.0.2->prince) (1.1.0)\n",
      "Requirement already satisfied: pyparsing!=2.0.4,!=2.1.2,!=2.1.6,>=2.0.1 in c:\\users\\lenovo\\anaconda3\\lib\\site-packages (from matplotlib>=3.0.2->prince) (2.4.2)\n",
      "Requirement already satisfied: six>=1.5 in c:\\users\\lenovo\\anaconda3\\lib\\site-packages (from python-dateutil>=2.7.3->pandas>=1.0.3->prince) (1.12.0)\n",
      "Requirement already satisfied: setuptools in c:\\users\\lenovo\\anaconda3\\lib\\site-packages (from kiwisolver>=1.0.1->matplotlib>=3.0.2->prince) (41.4.0)\n",
      "Installing collected packages: prince\n",
      "Successfully installed prince-0.7.1\n",
      "Note: you may need to restart the kernel to use updated packages.\n"
     ]
    }
   ],
   "source": [
    "pip install prince"
   ]
  },
  {
   "cell_type": "code",
   "execution_count": 64,
   "metadata": {},
   "outputs": [],
   "source": [
    "import prince"
   ]
  },
  {
   "cell_type": "code",
   "execution_count": 72,
   "metadata": {},
   "outputs": [
    {
     "ename": "TypeError",
     "evalue": "__init__() got an unexpected keyword argument 'n_item'",
     "output_type": "error",
     "traceback": [
      "\u001b[1;31m---------------------------------------------------------------------------\u001b[0m",
      "\u001b[1;31mTypeError\u001b[0m                                 Traceback (most recent call last)",
      "\u001b[1;32m<ipython-input-72-09ab9615ba16>\u001b[0m in \u001b[0;36m<module>\u001b[1;34m\u001b[0m\n\u001b[0;32m      4\u001b[0m     \u001b[0mcopy\u001b[0m\u001b[1;33m=\u001b[0m\u001b[1;32mTrue\u001b[0m\u001b[1;33m,\u001b[0m\u001b[1;33m\u001b[0m\u001b[1;33m\u001b[0m\u001b[0m\n\u001b[0;32m      5\u001b[0m     \u001b[0mengine\u001b[0m\u001b[1;33m=\u001b[0m\u001b[1;34m'auto'\u001b[0m\u001b[1;33m,\u001b[0m\u001b[1;33m\u001b[0m\u001b[1;33m\u001b[0m\u001b[0m\n\u001b[1;32m----> 6\u001b[1;33m     random_state=42)\n\u001b[0m\u001b[0;32m      7\u001b[0m \u001b[1;33m\u001b[0m\u001b[0m\n\u001b[0;32m      8\u001b[0m famd = famd.fit(adult.drop(['marital.status','occupation','workclass','education','native.country','age1'],\n",
      "\u001b[1;31mTypeError\u001b[0m: __init__() got an unexpected keyword argument 'n_item'"
     ]
    }
   ],
   "source": [
    "famd = prince.FAMD(\n",
    "    n_components=2,\n",
    "    n_item=3,\n",
    "    copy=True,\n",
    "    engine='auto',\n",
    "    random_state=42)\n",
    "\n",
    "famd = famd.fit(adult.drop(['marital.status','occupation','workclass','education','native.country','age1'],\n",
    "                           axis='columns'))\n"
   ]
  },
  {
   "cell_type": "code",
   "execution_count": null,
   "metadata": {},
   "outputs": [],
   "source": []
  }
 ],
 "metadata": {
  "kernelspec": {
   "display_name": "Python 3",
   "language": "python",
   "name": "python3"
  },
  "language_info": {
   "codemirror_mode": {
    "name": "ipython",
    "version": 3
   },
   "file_extension": ".py",
   "mimetype": "text/x-python",
   "name": "python",
   "nbconvert_exporter": "python",
   "pygments_lexer": "ipython3",
   "version": "3.7.4"
  }
 },
 "nbformat": 4,
 "nbformat_minor": 2
}
